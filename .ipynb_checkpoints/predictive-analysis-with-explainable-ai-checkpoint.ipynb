{
 "cells": [
  {
   "cell_type": "code",
   "execution_count": 47,
   "metadata": {},
   "outputs": [],
   "source": [
    "import pandas as pd\n",
    "import seaborn as sns\n",
    "import numpy as np\n",
    "import matplotlib."
   ]
  },
  {
   "cell_type": "markdown",
   "metadata": {},
   "source": [
    "# Reading dataset and saving into a dataframe"
   ]
  },
  {
   "cell_type": "code",
   "execution_count": 2,
   "metadata": {
    "execution": {
     "iopub.execute_input": "2022-08-14T16:37:41.490685Z",
     "iopub.status.busy": "2022-08-14T16:37:41.489750Z",
     "iopub.status.idle": "2022-08-14T16:37:41.795388Z",
     "shell.execute_reply": "2022-08-14T16:37:41.794369Z",
     "shell.execute_reply.started": "2022-08-14T16:37:41.490646Z"
    }
   },
   "outputs": [],
   "source": [
    "df=pd.read_csv(\"train.csv\", )"
   ]
  },
  {
   "cell_type": "code",
   "execution_count": 3,
   "metadata": {
    "execution": {
     "iopub.execute_input": "2022-08-14T16:37:41.797371Z",
     "iopub.status.busy": "2022-08-14T16:37:41.796693Z",
     "iopub.status.idle": "2022-08-14T16:37:41.836823Z",
     "shell.execute_reply": "2022-08-14T16:37:41.835754Z",
     "shell.execute_reply.started": "2022-08-14T16:37:41.797335Z"
    }
   },
   "outputs": [
    {
     "data": {
      "text/html": [
       "<div>\n",
       "<style scoped>\n",
       "    .dataframe tbody tr th:only-of-type {\n",
       "        vertical-align: middle;\n",
       "    }\n",
       "\n",
       "    .dataframe tbody tr th {\n",
       "        vertical-align: top;\n",
       "    }\n",
       "\n",
       "    .dataframe thead th {\n",
       "        text-align: right;\n",
       "    }\n",
       "</style>\n",
       "<table border=\"1\" class=\"dataframe\">\n",
       "  <thead>\n",
       "    <tr style=\"text-align: right;\">\n",
       "      <th></th>\n",
       "      <th>id</th>\n",
       "      <th>gender</th>\n",
       "      <th>s11</th>\n",
       "      <th>s12</th>\n",
       "      <th>s13</th>\n",
       "      <th>s16</th>\n",
       "      <th>s17</th>\n",
       "      <th>s18</th>\n",
       "      <th>s48</th>\n",
       "      <th>s52</th>\n",
       "      <th>...</th>\n",
       "      <th>n7</th>\n",
       "      <th>n8</th>\n",
       "      <th>n9</th>\n",
       "      <th>n10</th>\n",
       "      <th>n11</th>\n",
       "      <th>n12</th>\n",
       "      <th>n13</th>\n",
       "      <th>n14</th>\n",
       "      <th>n15</th>\n",
       "      <th>label</th>\n",
       "    </tr>\n",
       "  </thead>\n",
       "  <tbody>\n",
       "    <tr>\n",
       "      <th>0</th>\n",
       "      <td>b'gAAAAABinOicS09vrmgh0_JyEHihI13ptO0rCyHP7l76...</td>\n",
       "      <td>M</td>\n",
       "      <td>Y</td>\n",
       "      <td>N</td>\n",
       "      <td>1</td>\n",
       "      <td>D</td>\n",
       "      <td>D</td>\n",
       "      <td>B</td>\n",
       "      <td>0</td>\n",
       "      <td>1</td>\n",
       "      <td>...</td>\n",
       "      <td>-9.126056</td>\n",
       "      <td>1.732291</td>\n",
       "      <td>3.698504</td>\n",
       "      <td>4.804517</td>\n",
       "      <td>1.544484</td>\n",
       "      <td>0</td>\n",
       "      <td>0</td>\n",
       "      <td>0.631220</td>\n",
       "      <td>5</td>\n",
       "      <td>0</td>\n",
       "    </tr>\n",
       "    <tr>\n",
       "      <th>1</th>\n",
       "      <td>b'gAAAAABinOiWGC1WhR6WYP0DA5ssGv9rIekrWUwCdJ8F...</td>\n",
       "      <td>M</td>\n",
       "      <td>Y</td>\n",
       "      <td>Y</td>\n",
       "      <td>1</td>\n",
       "      <td>D</td>\n",
       "      <td>D</td>\n",
       "      <td>B</td>\n",
       "      <td>1</td>\n",
       "      <td>1</td>\n",
       "      <td>...</td>\n",
       "      <td>-9.098287</td>\n",
       "      <td>1.505885</td>\n",
       "      <td>6.791357</td>\n",
       "      <td>6.110416</td>\n",
       "      <td>1.712354</td>\n",
       "      <td>0</td>\n",
       "      <td>0</td>\n",
       "      <td>0.392746</td>\n",
       "      <td>3</td>\n",
       "      <td>1</td>\n",
       "    </tr>\n",
       "    <tr>\n",
       "      <th>2</th>\n",
       "      <td>b'gAAAAABinOibTcOBFIVeA4nVF3FuFz_QX3ZlPPFc21gS...</td>\n",
       "      <td>M</td>\n",
       "      <td>Y</td>\n",
       "      <td>Y</td>\n",
       "      <td>1</td>\n",
       "      <td>D</td>\n",
       "      <td>D</td>\n",
       "      <td>B</td>\n",
       "      <td>0</td>\n",
       "      <td>1</td>\n",
       "      <td>...</td>\n",
       "      <td>-9.234894</td>\n",
       "      <td>1.503828</td>\n",
       "      <td>4.109685</td>\n",
       "      <td>3.953226</td>\n",
       "      <td>1.804260</td>\n",
       "      <td>0</td>\n",
       "      <td>0</td>\n",
       "      <td>0.222537</td>\n",
       "      <td>2</td>\n",
       "      <td>0</td>\n",
       "    </tr>\n",
       "    <tr>\n",
       "      <th>3</th>\n",
       "      <td>b'gAAAAABinOig-g3-Q1ggjlMhfUSdn21Aj5yVVeVvXbis...</td>\n",
       "      <td>F</td>\n",
       "      <td>Y</td>\n",
       "      <td>Y</td>\n",
       "      <td>1</td>\n",
       "      <td>D</td>\n",
       "      <td>D</td>\n",
       "      <td>B</td>\n",
       "      <td>0</td>\n",
       "      <td>1</td>\n",
       "      <td>...</td>\n",
       "      <td>-9.378025</td>\n",
       "      <td>1.485863</td>\n",
       "      <td>7.265876</td>\n",
       "      <td>4.559419</td>\n",
       "      <td>1.537645</td>\n",
       "      <td>0</td>\n",
       "      <td>0</td>\n",
       "      <td>0.154409</td>\n",
       "      <td>4</td>\n",
       "      <td>0</td>\n",
       "    </tr>\n",
       "    <tr>\n",
       "      <th>4</th>\n",
       "      <td>b'gAAAAABinOiXdoaNUzihOSbyY1tjWtd5EgMaXkkvH6SV...</td>\n",
       "      <td>M</td>\n",
       "      <td>N</td>\n",
       "      <td>Y</td>\n",
       "      <td>1</td>\n",
       "      <td>B</td>\n",
       "      <td>D</td>\n",
       "      <td>D</td>\n",
       "      <td>1</td>\n",
       "      <td>l</td>\n",
       "      <td>...</td>\n",
       "      <td>-9.261962</td>\n",
       "      <td>1.619210</td>\n",
       "      <td>3.737647</td>\n",
       "      <td>4.052003</td>\n",
       "      <td>1.637831</td>\n",
       "      <td>0</td>\n",
       "      <td>1</td>\n",
       "      <td>0.737560</td>\n",
       "      <td>1</td>\n",
       "      <td>0</td>\n",
       "    </tr>\n",
       "  </tbody>\n",
       "</table>\n",
       "<p>5 rows × 36 columns</p>\n",
       "</div>"
      ],
      "text/plain": [
       "                                                  id gender s11 s12  s13 s16  \\\n",
       "0  b'gAAAAABinOicS09vrmgh0_JyEHihI13ptO0rCyHP7l76...      M   Y   N    1   D   \n",
       "1  b'gAAAAABinOiWGC1WhR6WYP0DA5ssGv9rIekrWUwCdJ8F...      M   Y   Y    1   D   \n",
       "2  b'gAAAAABinOibTcOBFIVeA4nVF3FuFz_QX3ZlPPFc21gS...      M   Y   Y    1   D   \n",
       "3  b'gAAAAABinOig-g3-Q1ggjlMhfUSdn21Aj5yVVeVvXbis...      F   Y   Y    1   D   \n",
       "4  b'gAAAAABinOiXdoaNUzihOSbyY1tjWtd5EgMaXkkvH6SV...      M   N   Y    1   B   \n",
       "\n",
       "  s17 s18  s48 s52  ...        n7        n8        n9       n10       n11 n12  \\\n",
       "0   D   B    0   1  ... -9.126056  1.732291  3.698504  4.804517  1.544484   0   \n",
       "1   D   B    1   1  ... -9.098287  1.505885  6.791357  6.110416  1.712354   0   \n",
       "2   D   B    0   1  ... -9.234894  1.503828  4.109685  3.953226  1.804260   0   \n",
       "3   D   B    0   1  ... -9.378025  1.485863  7.265876  4.559419  1.537645   0   \n",
       "4   D   D    1   l  ... -9.261962  1.619210  3.737647  4.052003  1.637831   0   \n",
       "\n",
       "   n13       n14 n15 label  \n",
       "0    0  0.631220   5     0  \n",
       "1    0  0.392746   3     1  \n",
       "2    0  0.222537   2     0  \n",
       "3    0  0.154409   4     0  \n",
       "4    1  0.737560   1     0  \n",
       "\n",
       "[5 rows x 36 columns]"
      ]
     },
     "execution_count": 3,
     "metadata": {},
     "output_type": "execute_result"
    }
   ],
   "source": [
    "df.head()"
   ]
  },
  {
   "cell_type": "code",
   "execution_count": 4,
   "metadata": {
    "execution": {
     "iopub.execute_input": "2022-08-14T16:37:41.840242Z",
     "iopub.status.busy": "2022-08-14T16:37:41.839473Z",
     "iopub.status.idle": "2022-08-14T16:37:41.847919Z",
     "shell.execute_reply": "2022-08-14T16:37:41.846684Z",
     "shell.execute_reply.started": "2022-08-14T16:37:41.840191Z"
    }
   },
   "outputs": [
    {
     "data": {
      "text/plain": [
       "(28322, 36)"
      ]
     },
     "execution_count": 4,
     "metadata": {},
     "output_type": "execute_result"
    }
   ],
   "source": [
    "df.shape"
   ]
  },
  {
   "cell_type": "markdown",
   "metadata": {},
   "source": [
    "# Check number of null values in columns"
   ]
  },
  {
   "cell_type": "code",
   "execution_count": 5,
   "metadata": {
    "execution": {
     "iopub.execute_input": "2022-08-14T16:37:41.850161Z",
     "iopub.status.busy": "2022-08-14T16:37:41.849608Z",
     "iopub.status.idle": "2022-08-14T16:37:41.882144Z",
     "shell.execute_reply": "2022-08-14T16:37:41.881444Z",
     "shell.execute_reply.started": "2022-08-14T16:37:41.850116Z"
    }
   },
   "outputs": [
    {
     "data": {
      "text/plain": [
       "id            0\n",
       "gender        0\n",
       "s11           0\n",
       "s12           0\n",
       "s13           0\n",
       "s16           0\n",
       "s17           0\n",
       "s18           0\n",
       "s48           0\n",
       "s52           0\n",
       "s53           0\n",
       "s54       25694\n",
       "s55       25116\n",
       "s56       28322\n",
       "s57       28322\n",
       "s58           0\n",
       "s59       28322\n",
       "s69           0\n",
       "s70           0\n",
       "s71           0\n",
       "n1            0\n",
       "n2            0\n",
       "n3            0\n",
       "n4            0\n",
       "n5            0\n",
       "n6            0\n",
       "n7            0\n",
       "n8            0\n",
       "n9            0\n",
       "n10           0\n",
       "n11           0\n",
       "n12           0\n",
       "n13           0\n",
       "n14           0\n",
       "n15           0\n",
       "label         0\n",
       "dtype: int64"
      ]
     },
     "execution_count": 5,
     "metadata": {},
     "output_type": "execute_result"
    }
   ],
   "source": [
    "df.isna().sum()"
   ]
  },
  {
   "cell_type": "markdown",
   "metadata": {},
   "source": [
    "# Droping columns with null values"
   ]
  },
  {
   "cell_type": "code",
   "execution_count": 6,
   "metadata": {
    "execution": {
     "iopub.execute_input": "2022-08-14T16:37:41.884167Z",
     "iopub.status.busy": "2022-08-14T16:37:41.883228Z",
     "iopub.status.idle": "2022-08-14T16:37:41.918834Z",
     "shell.execute_reply": "2022-08-14T16:37:41.917954Z",
     "shell.execute_reply.started": "2022-08-14T16:37:41.884131Z"
    }
   },
   "outputs": [],
   "source": [
    "df2=df.dropna(axis='columns')"
   ]
  },
  {
   "cell_type": "code",
   "execution_count": 7,
   "metadata": {
    "execution": {
     "iopub.execute_input": "2022-08-14T16:37:41.920837Z",
     "iopub.status.busy": "2022-08-14T16:37:41.920279Z",
     "iopub.status.idle": "2022-08-14T16:37:41.926869Z",
     "shell.execute_reply": "2022-08-14T16:37:41.925727Z",
     "shell.execute_reply.started": "2022-08-14T16:37:41.920799Z"
    }
   },
   "outputs": [
    {
     "data": {
      "text/plain": [
       "(28322, 31)"
      ]
     },
     "execution_count": 7,
     "metadata": {},
     "output_type": "execute_result"
    }
   ],
   "source": [
    "df2.shape"
   ]
  },
  {
   "cell_type": "code",
   "execution_count": 8,
   "metadata": {
    "execution": {
     "iopub.execute_input": "2022-08-14T16:37:41.929150Z",
     "iopub.status.busy": "2022-08-14T16:37:41.928193Z",
     "iopub.status.idle": "2022-08-14T16:37:41.962817Z",
     "shell.execute_reply": "2022-08-14T16:37:41.962060Z",
     "shell.execute_reply.started": "2022-08-14T16:37:41.929103Z"
    }
   },
   "outputs": [
    {
     "data": {
      "text/plain": [
       "<bound method DataFrame.info of                                                       id gender s11 s12  s13  \\\n",
       "0      b'gAAAAABinOicS09vrmgh0_JyEHihI13ptO0rCyHP7l76...      M   Y   N    1   \n",
       "1      b'gAAAAABinOiWGC1WhR6WYP0DA5ssGv9rIekrWUwCdJ8F...      M   Y   Y    1   \n",
       "2      b'gAAAAABinOibTcOBFIVeA4nVF3FuFz_QX3ZlPPFc21gS...      M   Y   Y    1   \n",
       "3      b'gAAAAABinOig-g3-Q1ggjlMhfUSdn21Aj5yVVeVvXbis...      F   Y   Y    1   \n",
       "4      b'gAAAAABinOiXdoaNUzihOSbyY1tjWtd5EgMaXkkvH6SV...      M   N   Y    1   \n",
       "...                                                  ...    ...  ..  ..  ...   \n",
       "28317  b'gAAAAABinOiX2ss5U2ZT5zFd8zf7HcBDWPvbivNz5wAy...      M   Y   Y    1   \n",
       "28318  b'gAAAAABinOiabmEADrCTZQktCKiahJkR_0kDa_8WOlos...      M   Y   Y    1   \n",
       "28319  b'gAAAAABinOicscC37w1W9uiIlYL1U5D_mUtmgdUg8QTl...      F   Y   Y    1   \n",
       "28320  b'gAAAAABinOib-JZ8iQDxjSRsa1dPT1TqeSQ_si4mAw5f...      M   Y   Y    1   \n",
       "28321  b'gAAAAABinOiZ3mCQAtoJFXj-Ymjhi9FbbZ_Ypi5gDoAE...      M   Y   Y    1   \n",
       "\n",
       "      s16 s17 s18  s48 s52  ...        n7        n8         n9        n10  \\\n",
       "0       D   D   B    0   1  ... -9.126056  1.732291   3.698504   4.804517   \n",
       "1       D   D   B    1   1  ... -9.098287  1.505885   6.791357   6.110416   \n",
       "2       D   D   B    0   1  ... -9.234894  1.503828   4.109685   3.953226   \n",
       "3       D   D   B    0   1  ... -9.378025  1.485863   7.265876   4.559419   \n",
       "4       B   D   D    1   l  ... -9.261962  1.619210   3.737647   4.052003   \n",
       "...    ..  ..  ..  ...  ..  ...       ...       ...        ...        ...   \n",
       "28317   D   D   B    0   1  ... -8.651173  1.877460   3.637551  11.404942   \n",
       "28318   D   D   B    0   1  ... -8.833046  1.559138   4.247487   5.530054   \n",
       "28319   D   D   B    0   1  ... -9.233722  1.455911   2.900249   6.058681   \n",
       "28320   B   C   B    1   1  ... -8.748941  2.074394  10.673259  11.387646   \n",
       "28321   D   D   B    1   l  ... -9.280950  1.490478   3.569598   4.584967   \n",
       "\n",
       "            n11  n12  n13       n14  n15  label  \n",
       "0      1.544484    0    0  0.631220    5      0  \n",
       "1      1.712354    0    0  0.392746    3      1  \n",
       "2      1.804260    0    0  0.222537    2      0  \n",
       "3      1.537645    0    0  0.154409    4      0  \n",
       "4      1.637831    0    1  0.737560    1      0  \n",
       "...         ...  ...  ...       ...  ...    ...  \n",
       "28317  1.862441    0    0  0.019793    5      0  \n",
       "28318  1.671527    0    0  0.371074    2      0  \n",
       "28319  1.627479    0    1  0.826587    1      0  \n",
       "28320  1.560391    0    0  0.103523    5      0  \n",
       "28321  1.777995    0    1  0.435079    5      0  \n",
       "\n",
       "[28322 rows x 31 columns]>"
      ]
     },
     "execution_count": 8,
     "metadata": {},
     "output_type": "execute_result"
    }
   ],
   "source": [
    "df2.info"
   ]
  },
  {
   "cell_type": "code",
   "execution_count": 9,
   "metadata": {
    "execution": {
     "iopub.execute_input": "2022-08-14T16:37:41.964733Z",
     "iopub.status.busy": "2022-08-14T16:37:41.963753Z",
     "iopub.status.idle": "2022-08-14T16:37:41.971395Z",
     "shell.execute_reply": "2022-08-14T16:37:41.970471Z",
     "shell.execute_reply.started": "2022-08-14T16:37:41.964682Z"
    }
   },
   "outputs": [
    {
     "data": {
      "text/plain": [
       "(28322, 31)"
      ]
     },
     "execution_count": 9,
     "metadata": {},
     "output_type": "execute_result"
    }
   ],
   "source": [
    "df2.shape"
   ]
  },
  {
   "cell_type": "markdown",
   "metadata": {},
   "source": [
    "# Manually Checking Columns with Null Value and Dropping Columns"
   ]
  },
  {
   "cell_type": "code",
   "execution_count": 10,
   "metadata": {
    "execution": {
     "iopub.execute_input": "2022-08-14T16:37:41.975556Z",
     "iopub.status.busy": "2022-08-14T16:37:41.975177Z",
     "iopub.status.idle": "2022-08-14T16:37:41.992015Z",
     "shell.execute_reply": "2022-08-14T16:37:41.991238Z",
     "shell.execute_reply.started": "2022-08-14T16:37:41.975522Z"
    }
   },
   "outputs": [
    {
     "data": {
      "text/plain": [
       "s53\n",
       "      25752\n",
       "       2570\n",
       "dtype: int64"
      ]
     },
     "execution_count": 10,
     "metadata": {},
     "output_type": "execute_result"
    }
   ],
   "source": [
    "df2.value_counts(\"s53\")"
   ]
  },
  {
   "cell_type": "code",
   "execution_count": 11,
   "metadata": {
    "execution": {
     "iopub.execute_input": "2022-08-14T16:37:41.993997Z",
     "iopub.status.busy": "2022-08-14T16:37:41.993058Z",
     "iopub.status.idle": "2022-08-14T16:37:42.002560Z",
     "shell.execute_reply": "2022-08-14T16:37:42.001578Z",
     "shell.execute_reply.started": "2022-08-14T16:37:41.993942Z"
    }
   },
   "outputs": [],
   "source": [
    "df2 = df2.drop(columns = ['s53'])"
   ]
  },
  {
   "cell_type": "code",
   "execution_count": 12,
   "metadata": {
    "execution": {
     "iopub.execute_input": "2022-08-14T16:37:42.004381Z",
     "iopub.status.busy": "2022-08-14T16:37:42.003805Z",
     "iopub.status.idle": "2022-08-14T16:37:42.047647Z",
     "shell.execute_reply": "2022-08-14T16:37:42.046632Z",
     "shell.execute_reply.started": "2022-08-14T16:37:42.004344Z"
    }
   },
   "outputs": [
    {
     "name": "stdout",
     "output_type": "stream",
     "text": [
      "<class 'pandas.core.frame.DataFrame'>\n",
      "RangeIndex: 28322 entries, 0 to 28321\n",
      "Data columns (total 30 columns):\n",
      " #   Column  Non-Null Count  Dtype  \n",
      "---  ------  --------------  -----  \n",
      " 0   id      28322 non-null  object \n",
      " 1   gender  28322 non-null  object \n",
      " 2   s11     28322 non-null  object \n",
      " 3   s12     28322 non-null  object \n",
      " 4   s13     28322 non-null  int64  \n",
      " 5   s16     28322 non-null  object \n",
      " 6   s17     28322 non-null  object \n",
      " 7   s18     28322 non-null  object \n",
      " 8   s48     28322 non-null  int64  \n",
      " 9   s52     28322 non-null  object \n",
      " 10  s58     28322 non-null  object \n",
      " 11  s69     28322 non-null  object \n",
      " 12  s70     28322 non-null  object \n",
      " 13  s71     28322 non-null  object \n",
      " 14  n1      28322 non-null  float64\n",
      " 15  n2      28322 non-null  float64\n",
      " 16  n3      28322 non-null  int64  \n",
      " 17  n4      28322 non-null  float64\n",
      " 18  n5      28322 non-null  float64\n",
      " 19  n6      28322 non-null  float64\n",
      " 20  n7      28322 non-null  float64\n",
      " 21  n8      28322 non-null  float64\n",
      " 22  n9      28322 non-null  float64\n",
      " 23  n10     28322 non-null  float64\n",
      " 24  n11     28322 non-null  float64\n",
      " 25  n12     28322 non-null  int64  \n",
      " 26  n13     28322 non-null  int64  \n",
      " 27  n14     28322 non-null  float64\n",
      " 28  n15     28322 non-null  int64  \n",
      " 29  label   28322 non-null  int64  \n",
      "dtypes: float64(11), int64(7), object(12)\n",
      "memory usage: 6.5+ MB\n"
     ]
    }
   ],
   "source": [
    "df2.info()"
   ]
  },
  {
   "cell_type": "code",
   "execution_count": 13,
   "metadata": {
    "execution": {
     "iopub.execute_input": "2022-08-14T16:37:42.049312Z",
     "iopub.status.busy": "2022-08-14T16:37:42.048934Z",
     "iopub.status.idle": "2022-08-14T16:37:42.289012Z",
     "shell.execute_reply": "2022-08-14T16:37:42.287925Z",
     "shell.execute_reply.started": "2022-08-14T16:37:42.049281Z"
    }
   },
   "outputs": [
    {
     "data": {
      "text/plain": [
       "id                                                                                                       gender  s11  s12  s13  s16  s17  s18  s48  s52  s58  s69  s70    s71  n1         n2        n3  n4        n5          n6        n7         n8        n9         n10        n11       n12  n13  n14       n15  label\n",
       "b'gAAAAABinOiV--AU-CsBpWqIdX5iMIXhCam6_pfAnHpGVRC4bV9gZJQ2mUzESHtOeugg_46o8LLfbOIrLBqz4GzPctwamEPJcw=='  M       N    Y    0    B    D    D    1    l    B    ~1   op: D  d    5.333498   1.130201  2   2.971969  -32.349195  0.018414  -9.402341  1.452468  5.170519   3.799987   1.762460  0    0    0.742435  5    0        1\n",
       "b'gAAAAABinOicVMPBpbNC5sbTPUsJ_rwYUcsZbHAEr0k3RQR6TnBDU6lIQcW7q_5A4COIYmz20uzpS6y6XEkRGoNqEGNf-faGyg=='  F       Y    Y    1    D    D    B    0    1    A    x    op: D  b    6.959800   1.084769  6   7.931657  -32.885410  0.017107  -9.255506  1.514394  3.338691   7.642631   1.874145  0    0    0.667925  3    0        1\n",
       "b'gAAAAABinOicVlOJnNe9W1CJgVqmjG1qX6HP4YyCIIQTduZwgm98ADzyp1D8XMrPRTSU2IJhoKsYGxVWYqNRSEoKo7rh9zS1Zw=='  F       Y    Y    1    D    D    B    1    1    B    x    op: D  b    11.465780  1.665660  7   5.902773  -32.510159  0.007352  -8.916771  1.564606  5.157809   7.567945   1.669912  0    0    0.867723  6    0        1\n",
       "b'gAAAAABinOicVhLR_Bh_NFVfjUmPBUsayM7L5q0SsTIYQJ0yNHFdXgZJl9dPFftW9d37iTuiCgaCiJI7ORl-Mw2k4YjOc0aN1w=='  M       Y    Y    1    D    D    B    0    1    B    x    op: D  b    15.720961  2.307326  8   6.824757  -32.578074  0.008055  -8.760410  1.628832  9.118711   11.234430  1.771386  0    0    0.968980  0    0        1\n",
       "b'gAAAAABinOicVfs8B0MNlweP8XaIklk547_ubWPiSIOVsA1-xiGChtCiS2r-ceWMbGKXLHjieWiDKqt2MZhbCaFnt2xZs6UFOQ=='  M       Y    Y    1    B    D    B    1    1    B    ~1   op: D  b    7.238612   0.975779  6   5.832068  -32.394714  0.017482  -8.951035  1.659300  7.470844   7.698874   1.817270  0    0    0.811125  0    0        1\n",
       "                                                                                                                                                                                                                                                                                                                              ..\n",
       "b'gAAAAABinOiYsz6mX6Tk2kYYfeaKMZ51gZ0IRazoazTL0P-Oo8mIScYhhOmsWpx8ZxvaWs3bj909E7bDMgx_yxj1_7Q5tuDmww=='  M       Y    Y    1    B    D    B    1    l    B    ~1   op: D  b    9.940564   1.466397  6   3.024729  -32.772734  0.005431  -9.083016  1.510150  3.526888   8.080908   1.533492  0    0    0.895607  1    1        1\n",
       "b'gAAAAABinOiYsz3UVa2UKgakUc7NowhazJnXIPrH_XARY2Qdb4H3eLiJgBEeh9R-yvwHZXRxMo-9_m3yYAaXVm1Y66SqZHfW7g=='  M       Y    N    1    D    B    B    0    1    B    x    op: B  b    5.012491   1.156928  3   7.371608  -32.392608  0.019457  -9.301147  1.421023  2.682450   3.966425   1.768932  0    0    0.811091  3    0        1\n",
       "b'gAAAAABinOiYsywHkUvNJP2Pu1oFMkI6djqErsVnZffTlc93Z30JUTQa_qhzl4171dIFQ0oCtcIG-CfklYmp18EdUe5oEB5w0Q=='  F       Y    Y    1    D    D    B    0    1    B    x    op: D  b    15.226786  2.232461  6   7.787427  -32.576552  0.021557  -8.974835  1.502541  6.491795   8.063297   1.581721  0    1    0.149789  4    1        1\n",
       "b'gAAAAABinOiYsx9LIR-OUeWVyczyNH6n-cezcEKczDkSgkRsLCvL69hwvPVj4jDqSn1vWoZBkodhLZIb2mAtih1489EV31AU3w=='  M       Y    Y    1    D    D    B    1    1    B    x    op: D  b    15.925637  2.562819  8   8.080923  -32.578193  0.007282  -8.726154  1.629628  10.831477  11.328579  1.653079  0    0    0.372200  5    0        1\n",
       "b'gAAAAABinOihzeIcUKfU_USVScmsqu7ojNJ3ee1M15EIO8x7ul7D-3SoXDvIkjTRsx2-_cRJoFDh8ORE1unYE-rKS1TKe9i9NQ=='  M       N    Y    1    D    D    B    1    1    B    x    op: D  b    11.482281  1.822968  9   2.874601  -32.575955  0.010946  -8.730804  1.919887  7.615536   11.518469  1.839495  0    0    0.474812  3    0        1\n",
       "Length: 28322, dtype: int64"
      ]
     },
     "execution_count": 13,
     "metadata": {},
     "output_type": "execute_result"
    }
   ],
   "source": [
    "df2.value_counts()"
   ]
  },
  {
   "cell_type": "code",
   "execution_count": 14,
   "metadata": {
    "execution": {
     "iopub.execute_input": "2022-08-14T16:37:42.290608Z",
     "iopub.status.busy": "2022-08-14T16:37:42.290252Z",
     "iopub.status.idle": "2022-08-14T16:37:42.378653Z",
     "shell.execute_reply": "2022-08-14T16:37:42.377680Z",
     "shell.execute_reply.started": "2022-08-14T16:37:42.290575Z"
    }
   },
   "outputs": [
    {
     "data": {
      "text/html": [
       "<div>\n",
       "<style scoped>\n",
       "    .dataframe tbody tr th:only-of-type {\n",
       "        vertical-align: middle;\n",
       "    }\n",
       "\n",
       "    .dataframe tbody tr th {\n",
       "        vertical-align: top;\n",
       "    }\n",
       "\n",
       "    .dataframe thead th {\n",
       "        text-align: right;\n",
       "    }\n",
       "</style>\n",
       "<table border=\"1\" class=\"dataframe\">\n",
       "  <thead>\n",
       "    <tr style=\"text-align: right;\">\n",
       "      <th></th>\n",
       "      <th>s13</th>\n",
       "      <th>s48</th>\n",
       "      <th>n1</th>\n",
       "      <th>n2</th>\n",
       "      <th>n3</th>\n",
       "      <th>n4</th>\n",
       "      <th>n5</th>\n",
       "      <th>n6</th>\n",
       "      <th>n7</th>\n",
       "      <th>n8</th>\n",
       "      <th>n9</th>\n",
       "      <th>n10</th>\n",
       "      <th>n11</th>\n",
       "      <th>n12</th>\n",
       "      <th>n13</th>\n",
       "      <th>n14</th>\n",
       "      <th>n15</th>\n",
       "      <th>label</th>\n",
       "    </tr>\n",
       "  </thead>\n",
       "  <tbody>\n",
       "    <tr>\n",
       "      <th>count</th>\n",
       "      <td>28322.000000</td>\n",
       "      <td>28322.000000</td>\n",
       "      <td>28322.000000</td>\n",
       "      <td>28322.000000</td>\n",
       "      <td>28322.000000</td>\n",
       "      <td>28322.000000</td>\n",
       "      <td>28322.000000</td>\n",
       "      <td>28322.000000</td>\n",
       "      <td>28322.000000</td>\n",
       "      <td>28322.000000</td>\n",
       "      <td>28322.000000</td>\n",
       "      <td>28322.000000</td>\n",
       "      <td>28322.000000</td>\n",
       "      <td>28322.000000</td>\n",
       "      <td>28322.000000</td>\n",
       "      <td>28322.000000</td>\n",
       "      <td>28322.000000</td>\n",
       "      <td>28322.000000</td>\n",
       "    </tr>\n",
       "    <tr>\n",
       "      <th>mean</th>\n",
       "      <td>0.983123</td>\n",
       "      <td>0.433338</td>\n",
       "      <td>10.201863</td>\n",
       "      <td>1.600111</td>\n",
       "      <td>4.805099</td>\n",
       "      <td>5.080537</td>\n",
       "      <td>-32.641183</td>\n",
       "      <td>0.015014</td>\n",
       "      <td>-9.107429</td>\n",
       "      <td>1.612428</td>\n",
       "      <td>5.232644</td>\n",
       "      <td>6.115109</td>\n",
       "      <td>1.699553</td>\n",
       "      <td>0.009992</td>\n",
       "      <td>0.089506</td>\n",
       "      <td>0.497570</td>\n",
       "      <td>2.997740</td>\n",
       "      <td>0.168067</td>\n",
       "    </tr>\n",
       "    <tr>\n",
       "      <th>std</th>\n",
       "      <td>0.128814</td>\n",
       "      <td>0.495545</td>\n",
       "      <td>4.414660</td>\n",
       "      <td>0.664985</td>\n",
       "      <td>2.199282</td>\n",
       "      <td>2.276162</td>\n",
       "      <td>0.241453</td>\n",
       "      <td>0.006550</td>\n",
       "      <td>0.205200</td>\n",
       "      <td>0.173560</td>\n",
       "      <td>2.179705</td>\n",
       "      <td>2.474138</td>\n",
       "      <td>0.115150</td>\n",
       "      <td>0.099462</td>\n",
       "      <td>0.285478</td>\n",
       "      <td>0.289207</td>\n",
       "      <td>2.007611</td>\n",
       "      <td>0.373933</td>\n",
       "    </tr>\n",
       "    <tr>\n",
       "      <th>min</th>\n",
       "      <td>0.000000</td>\n",
       "      <td>0.000000</td>\n",
       "      <td>2.200736</td>\n",
       "      <td>0.311727</td>\n",
       "      <td>0.000000</td>\n",
       "      <td>1.700370</td>\n",
       "      <td>-33.167589</td>\n",
       "      <td>0.000584</td>\n",
       "      <td>-9.517986</td>\n",
       "      <td>1.178469</td>\n",
       "      <td>2.508858</td>\n",
       "      <td>1.173465</td>\n",
       "      <td>1.500006</td>\n",
       "      <td>0.000000</td>\n",
       "      <td>0.000000</td>\n",
       "      <td>0.000101</td>\n",
       "      <td>0.000000</td>\n",
       "      <td>0.000000</td>\n",
       "    </tr>\n",
       "    <tr>\n",
       "      <th>25%</th>\n",
       "      <td>1.000000</td>\n",
       "      <td>0.000000</td>\n",
       "      <td>6.592127</td>\n",
       "      <td>1.013540</td>\n",
       "      <td>3.000000</td>\n",
       "      <td>2.833161</td>\n",
       "      <td>-32.862207</td>\n",
       "      <td>0.009195</td>\n",
       "      <td>-9.258473</td>\n",
       "      <td>1.489924</td>\n",
       "      <td>3.464229</td>\n",
       "      <td>4.414671</td>\n",
       "      <td>1.600056</td>\n",
       "      <td>0.000000</td>\n",
       "      <td>0.000000</td>\n",
       "      <td>0.247801</td>\n",
       "      <td>1.000000</td>\n",
       "      <td>0.000000</td>\n",
       "    </tr>\n",
       "    <tr>\n",
       "      <th>50%</th>\n",
       "      <td>1.000000</td>\n",
       "      <td>0.000000</td>\n",
       "      <td>9.535961</td>\n",
       "      <td>1.462197</td>\n",
       "      <td>5.000000</td>\n",
       "      <td>4.840320</td>\n",
       "      <td>-32.577026</td>\n",
       "      <td>0.016053</td>\n",
       "      <td>-9.174557</td>\n",
       "      <td>1.537263</td>\n",
       "      <td>4.461770</td>\n",
       "      <td>5.317154</td>\n",
       "      <td>1.698556</td>\n",
       "      <td>0.000000</td>\n",
       "      <td>0.000000</td>\n",
       "      <td>0.495255</td>\n",
       "      <td>3.000000</td>\n",
       "      <td>0.000000</td>\n",
       "    </tr>\n",
       "    <tr>\n",
       "      <th>75%</th>\n",
       "      <td>1.000000</td>\n",
       "      <td>1.000000</td>\n",
       "      <td>14.432580</td>\n",
       "      <td>2.194510</td>\n",
       "      <td>6.000000</td>\n",
       "      <td>7.300738</td>\n",
       "      <td>-32.396733</td>\n",
       "      <td>0.018771</td>\n",
       "      <td>-8.964786</td>\n",
       "      <td>1.730249</td>\n",
       "      <td>6.524341</td>\n",
       "      <td>7.027610</td>\n",
       "      <td>1.799238</td>\n",
       "      <td>0.000000</td>\n",
       "      <td>0.000000</td>\n",
       "      <td>0.748786</td>\n",
       "      <td>5.000000</td>\n",
       "      <td>0.000000</td>\n",
       "    </tr>\n",
       "    <tr>\n",
       "      <th>max</th>\n",
       "      <td>1.000000</td>\n",
       "      <td>1.000000</td>\n",
       "      <td>20.882733</td>\n",
       "      <td>3.137331</td>\n",
       "      <td>9.000000</td>\n",
       "      <td>8.594620</td>\n",
       "      <td>-32.289180</td>\n",
       "      <td>0.029992</td>\n",
       "      <td>-8.586583</td>\n",
       "      <td>2.173593</td>\n",
       "      <td>11.214870</td>\n",
       "      <td>12.029135</td>\n",
       "      <td>1.899995</td>\n",
       "      <td>1.000000</td>\n",
       "      <td>1.000000</td>\n",
       "      <td>0.999990</td>\n",
       "      <td>6.000000</td>\n",
       "      <td>1.000000</td>\n",
       "    </tr>\n",
       "  </tbody>\n",
       "</table>\n",
       "</div>"
      ],
      "text/plain": [
       "                s13           s48            n1            n2            n3  \\\n",
       "count  28322.000000  28322.000000  28322.000000  28322.000000  28322.000000   \n",
       "mean       0.983123      0.433338     10.201863      1.600111      4.805099   \n",
       "std        0.128814      0.495545      4.414660      0.664985      2.199282   \n",
       "min        0.000000      0.000000      2.200736      0.311727      0.000000   \n",
       "25%        1.000000      0.000000      6.592127      1.013540      3.000000   \n",
       "50%        1.000000      0.000000      9.535961      1.462197      5.000000   \n",
       "75%        1.000000      1.000000     14.432580      2.194510      6.000000   \n",
       "max        1.000000      1.000000     20.882733      3.137331      9.000000   \n",
       "\n",
       "                 n4            n5            n6            n7            n8  \\\n",
       "count  28322.000000  28322.000000  28322.000000  28322.000000  28322.000000   \n",
       "mean       5.080537    -32.641183      0.015014     -9.107429      1.612428   \n",
       "std        2.276162      0.241453      0.006550      0.205200      0.173560   \n",
       "min        1.700370    -33.167589      0.000584     -9.517986      1.178469   \n",
       "25%        2.833161    -32.862207      0.009195     -9.258473      1.489924   \n",
       "50%        4.840320    -32.577026      0.016053     -9.174557      1.537263   \n",
       "75%        7.300738    -32.396733      0.018771     -8.964786      1.730249   \n",
       "max        8.594620    -32.289180      0.029992     -8.586583      2.173593   \n",
       "\n",
       "                 n9           n10           n11           n12           n13  \\\n",
       "count  28322.000000  28322.000000  28322.000000  28322.000000  28322.000000   \n",
       "mean       5.232644      6.115109      1.699553      0.009992      0.089506   \n",
       "std        2.179705      2.474138      0.115150      0.099462      0.285478   \n",
       "min        2.508858      1.173465      1.500006      0.000000      0.000000   \n",
       "25%        3.464229      4.414671      1.600056      0.000000      0.000000   \n",
       "50%        4.461770      5.317154      1.698556      0.000000      0.000000   \n",
       "75%        6.524341      7.027610      1.799238      0.000000      0.000000   \n",
       "max       11.214870     12.029135      1.899995      1.000000      1.000000   \n",
       "\n",
       "                n14           n15         label  \n",
       "count  28322.000000  28322.000000  28322.000000  \n",
       "mean       0.497570      2.997740      0.168067  \n",
       "std        0.289207      2.007611      0.373933  \n",
       "min        0.000101      0.000000      0.000000  \n",
       "25%        0.247801      1.000000      0.000000  \n",
       "50%        0.495255      3.000000      0.000000  \n",
       "75%        0.748786      5.000000      0.000000  \n",
       "max        0.999990      6.000000      1.000000  "
      ]
     },
     "execution_count": 14,
     "metadata": {},
     "output_type": "execute_result"
    }
   ],
   "source": [
    "df2.describe()"
   ]
  },
  {
   "cell_type": "code",
   "execution_count": 15,
   "metadata": {
    "execution": {
     "iopub.execute_input": "2022-08-14T16:37:42.380275Z",
     "iopub.status.busy": "2022-08-14T16:37:42.379896Z",
     "iopub.status.idle": "2022-08-14T16:37:42.391811Z",
     "shell.execute_reply": "2022-08-14T16:37:42.390893Z",
     "shell.execute_reply.started": "2022-08-14T16:37:42.380241Z"
    }
   },
   "outputs": [
    {
     "data": {
      "text/plain": [
       "s11\n",
       "Y    25112\n",
       "N     3210\n",
       "dtype: int64"
      ]
     },
     "execution_count": 15,
     "metadata": {},
     "output_type": "execute_result"
    }
   ],
   "source": [
    "\n",
    "df2.value_counts(\"s11\")\n"
   ]
  },
  {
   "cell_type": "code",
   "execution_count": 16,
   "metadata": {
    "execution": {
     "iopub.execute_input": "2022-08-14T16:37:42.393998Z",
     "iopub.status.busy": "2022-08-14T16:37:42.393504Z",
     "iopub.status.idle": "2022-08-14T16:37:42.406774Z",
     "shell.execute_reply": "2022-08-14T16:37:42.406051Z",
     "shell.execute_reply.started": "2022-08-14T16:37:42.393942Z"
    }
   },
   "outputs": [
    {
     "data": {
      "text/plain": [
       "s12\n",
       "Y    24227\n",
       "N     4095\n",
       "dtype: int64"
      ]
     },
     "execution_count": 16,
     "metadata": {},
     "output_type": "execute_result"
    }
   ],
   "source": [
    "df2.value_counts(\"s12\")"
   ]
  },
  {
   "cell_type": "code",
   "execution_count": 17,
   "metadata": {
    "execution": {
     "iopub.execute_input": "2022-08-14T16:37:42.408791Z",
     "iopub.status.busy": "2022-08-14T16:37:42.408412Z",
     "iopub.status.idle": "2022-08-14T16:37:42.416936Z",
     "shell.execute_reply": "2022-08-14T16:37:42.415941Z",
     "shell.execute_reply.started": "2022-08-14T16:37:42.408759Z"
    }
   },
   "outputs": [
    {
     "data": {
      "text/plain": [
       "s13\n",
       "1    27844\n",
       "0      478\n",
       "dtype: int64"
      ]
     },
     "execution_count": 17,
     "metadata": {},
     "output_type": "execute_result"
    }
   ],
   "source": [
    "df2.value_counts(\"s13\")"
   ]
  },
  {
   "cell_type": "code",
   "execution_count": 18,
   "metadata": {
    "execution": {
     "iopub.execute_input": "2022-08-14T16:37:42.418656Z",
     "iopub.status.busy": "2022-08-14T16:37:42.418281Z",
     "iopub.status.idle": "2022-08-14T16:37:42.431559Z",
     "shell.execute_reply": "2022-08-14T16:37:42.430628Z",
     "shell.execute_reply.started": "2022-08-14T16:37:42.418608Z"
    }
   },
   "outputs": [
    {
     "data": {
      "text/plain": [
       "s16\n",
       "D    21028\n",
       "B     6446\n",
       "C      540\n",
       "A      308\n",
       "dtype: int64"
      ]
     },
     "execution_count": 18,
     "metadata": {},
     "output_type": "execute_result"
    }
   ],
   "source": [
    "df2.value_counts(\"s16\")"
   ]
  },
  {
   "cell_type": "code",
   "execution_count": 19,
   "metadata": {
    "execution": {
     "iopub.execute_input": "2022-08-14T16:37:42.433307Z",
     "iopub.status.busy": "2022-08-14T16:37:42.432730Z",
     "iopub.status.idle": "2022-08-14T16:37:42.445956Z",
     "shell.execute_reply": "2022-08-14T16:37:42.444063Z",
     "shell.execute_reply.started": "2022-08-14T16:37:42.433253Z"
    }
   },
   "outputs": [
    {
     "data": {
      "text/plain": [
       "s17\n",
       "D    24013\n",
       "B     2175\n",
       "C     1985\n",
       "A      149\n",
       "dtype: int64"
      ]
     },
     "execution_count": 19,
     "metadata": {},
     "output_type": "execute_result"
    }
   ],
   "source": [
    "df2.value_counts(\"s17\")"
   ]
  },
  {
   "cell_type": "code",
   "execution_count": 20,
   "metadata": {
    "execution": {
     "iopub.execute_input": "2022-08-14T16:37:42.447901Z",
     "iopub.status.busy": "2022-08-14T16:37:42.447529Z",
     "iopub.status.idle": "2022-08-14T16:37:42.460821Z",
     "shell.execute_reply": "2022-08-14T16:37:42.460103Z",
     "shell.execute_reply.started": "2022-08-14T16:37:42.447870Z"
    }
   },
   "outputs": [
    {
     "data": {
      "text/plain": [
       "s18\n",
       "B    25010\n",
       "D     1612\n",
       "C     1607\n",
       "A       93\n",
       "dtype: int64"
      ]
     },
     "execution_count": 20,
     "metadata": {},
     "output_type": "execute_result"
    }
   ],
   "source": [
    "df2.value_counts(\"s18\")"
   ]
  },
  {
   "cell_type": "code",
   "execution_count": 21,
   "metadata": {
    "execution": {
     "iopub.execute_input": "2022-08-14T16:37:42.462517Z",
     "iopub.status.busy": "2022-08-14T16:37:42.462025Z",
     "iopub.status.idle": "2022-08-14T16:37:42.475636Z",
     "shell.execute_reply": "2022-08-14T16:37:42.474710Z",
     "shell.execute_reply.started": "2022-08-14T16:37:42.462479Z"
    }
   },
   "outputs": [
    {
     "data": {
      "text/plain": [
       "s11\n",
       "Y    25112\n",
       "N     3210\n",
       "dtype: int64"
      ]
     },
     "execution_count": 21,
     "metadata": {},
     "output_type": "execute_result"
    }
   ],
   "source": [
    "df2.value_counts(\"s11\")"
   ]
  },
  {
   "cell_type": "markdown",
   "metadata": {},
   "source": [
    "# Replacing String Values with Numerical values"
   ]
  },
  {
   "cell_type": "code",
   "execution_count": 22,
   "metadata": {
    "execution": {
     "iopub.execute_input": "2022-08-14T16:37:42.477534Z",
     "iopub.status.busy": "2022-08-14T16:37:42.477071Z",
     "iopub.status.idle": "2022-08-14T16:37:42.651817Z",
     "shell.execute_reply": "2022-08-14T16:37:42.651078Z",
     "shell.execute_reply.started": "2022-08-14T16:37:42.477501Z"
    }
   },
   "outputs": [
    {
     "data": {
      "text/html": [
       "<div>\n",
       "<style scoped>\n",
       "    .dataframe tbody tr th:only-of-type {\n",
       "        vertical-align: middle;\n",
       "    }\n",
       "\n",
       "    .dataframe tbody tr th {\n",
       "        vertical-align: top;\n",
       "    }\n",
       "\n",
       "    .dataframe thead th {\n",
       "        text-align: right;\n",
       "    }\n",
       "</style>\n",
       "<table border=\"1\" class=\"dataframe\">\n",
       "  <thead>\n",
       "    <tr style=\"text-align: right;\">\n",
       "      <th></th>\n",
       "      <th>id</th>\n",
       "      <th>gender</th>\n",
       "      <th>s11</th>\n",
       "      <th>s12</th>\n",
       "      <th>s13</th>\n",
       "      <th>s16</th>\n",
       "      <th>s17</th>\n",
       "      <th>s18</th>\n",
       "      <th>s48</th>\n",
       "      <th>s52</th>\n",
       "      <th>...</th>\n",
       "      <th>n7</th>\n",
       "      <th>n8</th>\n",
       "      <th>n9</th>\n",
       "      <th>n10</th>\n",
       "      <th>n11</th>\n",
       "      <th>n12</th>\n",
       "      <th>n13</th>\n",
       "      <th>n14</th>\n",
       "      <th>n15</th>\n",
       "      <th>label</th>\n",
       "    </tr>\n",
       "  </thead>\n",
       "  <tbody>\n",
       "    <tr>\n",
       "      <th>0</th>\n",
       "      <td>b'gAAAAABinOicS09vrmgh0_JyEHihI13ptO0rCyHP7l76...</td>\n",
       "      <td>1</td>\n",
       "      <td>1</td>\n",
       "      <td>0</td>\n",
       "      <td>1</td>\n",
       "      <td>3</td>\n",
       "      <td>3</td>\n",
       "      <td>1</td>\n",
       "      <td>0</td>\n",
       "      <td>1</td>\n",
       "      <td>...</td>\n",
       "      <td>-9.126056</td>\n",
       "      <td>1.732291</td>\n",
       "      <td>3.698504</td>\n",
       "      <td>4.804517</td>\n",
       "      <td>1.544484</td>\n",
       "      <td>0</td>\n",
       "      <td>0</td>\n",
       "      <td>0.631220</td>\n",
       "      <td>5</td>\n",
       "      <td>0</td>\n",
       "    </tr>\n",
       "    <tr>\n",
       "      <th>1</th>\n",
       "      <td>b'gAAAAABinOiWGC1WhR6WYP0DA5ssGv9rIekrWUwCdJ8F...</td>\n",
       "      <td>1</td>\n",
       "      <td>1</td>\n",
       "      <td>1</td>\n",
       "      <td>1</td>\n",
       "      <td>3</td>\n",
       "      <td>3</td>\n",
       "      <td>1</td>\n",
       "      <td>1</td>\n",
       "      <td>1</td>\n",
       "      <td>...</td>\n",
       "      <td>-9.098287</td>\n",
       "      <td>1.505885</td>\n",
       "      <td>6.791357</td>\n",
       "      <td>6.110416</td>\n",
       "      <td>1.712354</td>\n",
       "      <td>0</td>\n",
       "      <td>0</td>\n",
       "      <td>0.392746</td>\n",
       "      <td>3</td>\n",
       "      <td>1</td>\n",
       "    </tr>\n",
       "    <tr>\n",
       "      <th>2</th>\n",
       "      <td>b'gAAAAABinOibTcOBFIVeA4nVF3FuFz_QX3ZlPPFc21gS...</td>\n",
       "      <td>1</td>\n",
       "      <td>1</td>\n",
       "      <td>1</td>\n",
       "      <td>1</td>\n",
       "      <td>3</td>\n",
       "      <td>3</td>\n",
       "      <td>1</td>\n",
       "      <td>0</td>\n",
       "      <td>1</td>\n",
       "      <td>...</td>\n",
       "      <td>-9.234894</td>\n",
       "      <td>1.503828</td>\n",
       "      <td>4.109685</td>\n",
       "      <td>3.953226</td>\n",
       "      <td>1.804260</td>\n",
       "      <td>0</td>\n",
       "      <td>0</td>\n",
       "      <td>0.222537</td>\n",
       "      <td>2</td>\n",
       "      <td>0</td>\n",
       "    </tr>\n",
       "    <tr>\n",
       "      <th>3</th>\n",
       "      <td>b'gAAAAABinOig-g3-Q1ggjlMhfUSdn21Aj5yVVeVvXbis...</td>\n",
       "      <td>0</td>\n",
       "      <td>1</td>\n",
       "      <td>1</td>\n",
       "      <td>1</td>\n",
       "      <td>3</td>\n",
       "      <td>3</td>\n",
       "      <td>1</td>\n",
       "      <td>0</td>\n",
       "      <td>1</td>\n",
       "      <td>...</td>\n",
       "      <td>-9.378025</td>\n",
       "      <td>1.485863</td>\n",
       "      <td>7.265876</td>\n",
       "      <td>4.559419</td>\n",
       "      <td>1.537645</td>\n",
       "      <td>0</td>\n",
       "      <td>0</td>\n",
       "      <td>0.154409</td>\n",
       "      <td>4</td>\n",
       "      <td>0</td>\n",
       "    </tr>\n",
       "    <tr>\n",
       "      <th>4</th>\n",
       "      <td>b'gAAAAABinOiXdoaNUzihOSbyY1tjWtd5EgMaXkkvH6SV...</td>\n",
       "      <td>1</td>\n",
       "      <td>0</td>\n",
       "      <td>1</td>\n",
       "      <td>1</td>\n",
       "      <td>1</td>\n",
       "      <td>3</td>\n",
       "      <td>3</td>\n",
       "      <td>1</td>\n",
       "      <td>l</td>\n",
       "      <td>...</td>\n",
       "      <td>-9.261962</td>\n",
       "      <td>1.619210</td>\n",
       "      <td>3.737647</td>\n",
       "      <td>4.052003</td>\n",
       "      <td>1.637831</td>\n",
       "      <td>0</td>\n",
       "      <td>1</td>\n",
       "      <td>0.737560</td>\n",
       "      <td>1</td>\n",
       "      <td>0</td>\n",
       "    </tr>\n",
       "  </tbody>\n",
       "</table>\n",
       "<p>5 rows × 30 columns</p>\n",
       "</div>"
      ],
      "text/plain": [
       "                                                  id  gender  s11  s12  s13  \\\n",
       "0  b'gAAAAABinOicS09vrmgh0_JyEHihI13ptO0rCyHP7l76...       1    1    0    1   \n",
       "1  b'gAAAAABinOiWGC1WhR6WYP0DA5ssGv9rIekrWUwCdJ8F...       1    1    1    1   \n",
       "2  b'gAAAAABinOibTcOBFIVeA4nVF3FuFz_QX3ZlPPFc21gS...       1    1    1    1   \n",
       "3  b'gAAAAABinOig-g3-Q1ggjlMhfUSdn21Aj5yVVeVvXbis...       0    1    1    1   \n",
       "4  b'gAAAAABinOiXdoaNUzihOSbyY1tjWtd5EgMaXkkvH6SV...       1    0    1    1   \n",
       "\n",
       "   s16  s17  s18  s48 s52  ...        n7        n8        n9       n10  \\\n",
       "0    3    3    1    0   1  ... -9.126056  1.732291  3.698504  4.804517   \n",
       "1    3    3    1    1   1  ... -9.098287  1.505885  6.791357  6.110416   \n",
       "2    3    3    1    0   1  ... -9.234894  1.503828  4.109685  3.953226   \n",
       "3    3    3    1    0   1  ... -9.378025  1.485863  7.265876  4.559419   \n",
       "4    1    3    3    1   l  ... -9.261962  1.619210  3.737647  4.052003   \n",
       "\n",
       "        n11  n12  n13       n14  n15  label  \n",
       "0  1.544484    0    0  0.631220    5      0  \n",
       "1  1.712354    0    0  0.392746    3      1  \n",
       "2  1.804260    0    0  0.222537    2      0  \n",
       "3  1.537645    0    0  0.154409    4      0  \n",
       "4  1.637831    0    1  0.737560    1      0  \n",
       "\n",
       "[5 rows x 30 columns]"
      ]
     },
     "execution_count": 22,
     "metadata": {},
     "output_type": "execute_result"
    }
   ],
   "source": [
    "df2['gender'].replace({'M':1, 'F':0}, inplace = True)\n",
    "df2['s11'].replace({'N':0, 'Y':1}, inplace = True)\n",
    "df2['s12'].replace({'N':0, 'Y':1}, inplace = True)\n",
    "df2['s16'].replace({'A':0, 'B':1, 'C':2, 'D':3}, inplace = True)\n",
    "df2['s17'].replace({'A':0, 'B':1, 'C':2, 'D':3}, inplace = True)\n",
    "df2['s18'].replace({'A':0, 'B':1, 'C':2, 'D':3}, inplace = True)\n",
    "df2['s58'].replace({'A':0, 'B':1, 'C':2, 'D':3}, inplace = True)\n",
    "df2['s70'].replace({'op: A':0, 'op: B':1, 'op: C':2, 'op: D':3}, inplace = True)\n",
    "df2['s71'].replace({'a':0, 'b':1, 'c':2, 'd':3}, inplace = True)\n",
    "df2.head()"
   ]
  },
  {
   "cell_type": "code",
   "execution_count": 23,
   "metadata": {
    "execution": {
     "iopub.execute_input": "2022-08-14T16:37:42.653288Z",
     "iopub.status.busy": "2022-08-14T16:37:42.652916Z",
     "iopub.status.idle": "2022-08-14T16:37:42.664031Z",
     "shell.execute_reply": "2022-08-14T16:37:42.663083Z",
     "shell.execute_reply.started": "2022-08-14T16:37:42.653255Z"
    }
   },
   "outputs": [
    {
     "data": {
      "text/plain": [
       "s70\n",
       "3    24013\n",
       "1     2175\n",
       "2     1985\n",
       "0      149\n",
       "dtype: int64"
      ]
     },
     "execution_count": 23,
     "metadata": {},
     "output_type": "execute_result"
    }
   ],
   "source": [
    "df2.value_counts(\"s70\")"
   ]
  },
  {
   "cell_type": "code",
   "execution_count": 24,
   "metadata": {
    "execution": {
     "iopub.execute_input": "2022-08-14T16:37:42.665855Z",
     "iopub.status.busy": "2022-08-14T16:37:42.665187Z",
     "iopub.status.idle": "2022-08-14T16:37:42.783318Z",
     "shell.execute_reply": "2022-08-14T16:37:42.782418Z",
     "shell.execute_reply.started": "2022-08-14T16:37:42.665821Z"
    }
   },
   "outputs": [
    {
     "data": {
      "text/html": [
       "<div>\n",
       "<style scoped>\n",
       "    .dataframe tbody tr th:only-of-type {\n",
       "        vertical-align: middle;\n",
       "    }\n",
       "\n",
       "    .dataframe tbody tr th {\n",
       "        vertical-align: top;\n",
       "    }\n",
       "\n",
       "    .dataframe thead th {\n",
       "        text-align: right;\n",
       "    }\n",
       "</style>\n",
       "<table border=\"1\" class=\"dataframe\">\n",
       "  <thead>\n",
       "    <tr style=\"text-align: right;\">\n",
       "      <th></th>\n",
       "      <th>gender</th>\n",
       "      <th>s11</th>\n",
       "      <th>s12</th>\n",
       "      <th>s13</th>\n",
       "      <th>s16</th>\n",
       "      <th>s17</th>\n",
       "      <th>s18</th>\n",
       "      <th>s48</th>\n",
       "      <th>s58</th>\n",
       "      <th>s70</th>\n",
       "      <th>...</th>\n",
       "      <th>n7</th>\n",
       "      <th>n8</th>\n",
       "      <th>n9</th>\n",
       "      <th>n10</th>\n",
       "      <th>n11</th>\n",
       "      <th>n12</th>\n",
       "      <th>n13</th>\n",
       "      <th>n14</th>\n",
       "      <th>n15</th>\n",
       "      <th>label</th>\n",
       "    </tr>\n",
       "  </thead>\n",
       "  <tbody>\n",
       "    <tr>\n",
       "      <th>count</th>\n",
       "      <td>28322.000000</td>\n",
       "      <td>28322.000000</td>\n",
       "      <td>28322.000000</td>\n",
       "      <td>28322.000000</td>\n",
       "      <td>28322.000000</td>\n",
       "      <td>28322.000000</td>\n",
       "      <td>28322.000000</td>\n",
       "      <td>28322.000000</td>\n",
       "      <td>28322.000000</td>\n",
       "      <td>28322.000000</td>\n",
       "      <td>...</td>\n",
       "      <td>28322.000000</td>\n",
       "      <td>28322.000000</td>\n",
       "      <td>28322.000000</td>\n",
       "      <td>28322.000000</td>\n",
       "      <td>28322.000000</td>\n",
       "      <td>28322.000000</td>\n",
       "      <td>28322.000000</td>\n",
       "      <td>28322.000000</td>\n",
       "      <td>28322.000000</td>\n",
       "      <td>28322.000000</td>\n",
       "    </tr>\n",
       "    <tr>\n",
       "      <th>mean</th>\n",
       "      <td>0.720147</td>\n",
       "      <td>0.886661</td>\n",
       "      <td>0.855413</td>\n",
       "      <td>0.983123</td>\n",
       "      <td>2.493115</td>\n",
       "      <td>2.760540</td>\n",
       "      <td>1.167290</td>\n",
       "      <td>0.433338</td>\n",
       "      <td>0.909540</td>\n",
       "      <td>2.760540</td>\n",
       "      <td>...</td>\n",
       "      <td>-9.107429</td>\n",
       "      <td>1.612428</td>\n",
       "      <td>5.232644</td>\n",
       "      <td>6.115109</td>\n",
       "      <td>1.699553</td>\n",
       "      <td>0.009992</td>\n",
       "      <td>0.089506</td>\n",
       "      <td>0.497570</td>\n",
       "      <td>2.997740</td>\n",
       "      <td>0.168067</td>\n",
       "    </tr>\n",
       "    <tr>\n",
       "      <th>std</th>\n",
       "      <td>0.448935</td>\n",
       "      <td>0.317013</td>\n",
       "      <td>0.351690</td>\n",
       "      <td>0.128814</td>\n",
       "      <td>0.877738</td>\n",
       "      <td>0.606043</td>\n",
       "      <td>0.509622</td>\n",
       "      <td>0.495545</td>\n",
       "      <td>0.286844</td>\n",
       "      <td>0.606043</td>\n",
       "      <td>...</td>\n",
       "      <td>0.205200</td>\n",
       "      <td>0.173560</td>\n",
       "      <td>2.179705</td>\n",
       "      <td>2.474138</td>\n",
       "      <td>0.115150</td>\n",
       "      <td>0.099462</td>\n",
       "      <td>0.285478</td>\n",
       "      <td>0.289207</td>\n",
       "      <td>2.007611</td>\n",
       "      <td>0.373933</td>\n",
       "    </tr>\n",
       "    <tr>\n",
       "      <th>min</th>\n",
       "      <td>0.000000</td>\n",
       "      <td>0.000000</td>\n",
       "      <td>0.000000</td>\n",
       "      <td>0.000000</td>\n",
       "      <td>0.000000</td>\n",
       "      <td>0.000000</td>\n",
       "      <td>0.000000</td>\n",
       "      <td>0.000000</td>\n",
       "      <td>0.000000</td>\n",
       "      <td>0.000000</td>\n",
       "      <td>...</td>\n",
       "      <td>-9.517986</td>\n",
       "      <td>1.178469</td>\n",
       "      <td>2.508858</td>\n",
       "      <td>1.173465</td>\n",
       "      <td>1.500006</td>\n",
       "      <td>0.000000</td>\n",
       "      <td>0.000000</td>\n",
       "      <td>0.000101</td>\n",
       "      <td>0.000000</td>\n",
       "      <td>0.000000</td>\n",
       "    </tr>\n",
       "    <tr>\n",
       "      <th>25%</th>\n",
       "      <td>0.000000</td>\n",
       "      <td>1.000000</td>\n",
       "      <td>1.000000</td>\n",
       "      <td>1.000000</td>\n",
       "      <td>2.000000</td>\n",
       "      <td>3.000000</td>\n",
       "      <td>1.000000</td>\n",
       "      <td>0.000000</td>\n",
       "      <td>1.000000</td>\n",
       "      <td>3.000000</td>\n",
       "      <td>...</td>\n",
       "      <td>-9.258473</td>\n",
       "      <td>1.489924</td>\n",
       "      <td>3.464229</td>\n",
       "      <td>4.414671</td>\n",
       "      <td>1.600056</td>\n",
       "      <td>0.000000</td>\n",
       "      <td>0.000000</td>\n",
       "      <td>0.247801</td>\n",
       "      <td>1.000000</td>\n",
       "      <td>0.000000</td>\n",
       "    </tr>\n",
       "    <tr>\n",
       "      <th>50%</th>\n",
       "      <td>1.000000</td>\n",
       "      <td>1.000000</td>\n",
       "      <td>1.000000</td>\n",
       "      <td>1.000000</td>\n",
       "      <td>3.000000</td>\n",
       "      <td>3.000000</td>\n",
       "      <td>1.000000</td>\n",
       "      <td>0.000000</td>\n",
       "      <td>1.000000</td>\n",
       "      <td>3.000000</td>\n",
       "      <td>...</td>\n",
       "      <td>-9.174557</td>\n",
       "      <td>1.537263</td>\n",
       "      <td>4.461770</td>\n",
       "      <td>5.317154</td>\n",
       "      <td>1.698556</td>\n",
       "      <td>0.000000</td>\n",
       "      <td>0.000000</td>\n",
       "      <td>0.495255</td>\n",
       "      <td>3.000000</td>\n",
       "      <td>0.000000</td>\n",
       "    </tr>\n",
       "    <tr>\n",
       "      <th>75%</th>\n",
       "      <td>1.000000</td>\n",
       "      <td>1.000000</td>\n",
       "      <td>1.000000</td>\n",
       "      <td>1.000000</td>\n",
       "      <td>3.000000</td>\n",
       "      <td>3.000000</td>\n",
       "      <td>1.000000</td>\n",
       "      <td>1.000000</td>\n",
       "      <td>1.000000</td>\n",
       "      <td>3.000000</td>\n",
       "      <td>...</td>\n",
       "      <td>-8.964786</td>\n",
       "      <td>1.730249</td>\n",
       "      <td>6.524341</td>\n",
       "      <td>7.027610</td>\n",
       "      <td>1.799238</td>\n",
       "      <td>0.000000</td>\n",
       "      <td>0.000000</td>\n",
       "      <td>0.748786</td>\n",
       "      <td>5.000000</td>\n",
       "      <td>0.000000</td>\n",
       "    </tr>\n",
       "    <tr>\n",
       "      <th>max</th>\n",
       "      <td>1.000000</td>\n",
       "      <td>1.000000</td>\n",
       "      <td>1.000000</td>\n",
       "      <td>1.000000</td>\n",
       "      <td>3.000000</td>\n",
       "      <td>3.000000</td>\n",
       "      <td>3.000000</td>\n",
       "      <td>1.000000</td>\n",
       "      <td>1.000000</td>\n",
       "      <td>3.000000</td>\n",
       "      <td>...</td>\n",
       "      <td>-8.586583</td>\n",
       "      <td>2.173593</td>\n",
       "      <td>11.214870</td>\n",
       "      <td>12.029135</td>\n",
       "      <td>1.899995</td>\n",
       "      <td>1.000000</td>\n",
       "      <td>1.000000</td>\n",
       "      <td>0.999990</td>\n",
       "      <td>6.000000</td>\n",
       "      <td>1.000000</td>\n",
       "    </tr>\n",
       "  </tbody>\n",
       "</table>\n",
       "<p>8 rows × 27 columns</p>\n",
       "</div>"
      ],
      "text/plain": [
       "             gender           s11           s12           s13           s16  \\\n",
       "count  28322.000000  28322.000000  28322.000000  28322.000000  28322.000000   \n",
       "mean       0.720147      0.886661      0.855413      0.983123      2.493115   \n",
       "std        0.448935      0.317013      0.351690      0.128814      0.877738   \n",
       "min        0.000000      0.000000      0.000000      0.000000      0.000000   \n",
       "25%        0.000000      1.000000      1.000000      1.000000      2.000000   \n",
       "50%        1.000000      1.000000      1.000000      1.000000      3.000000   \n",
       "75%        1.000000      1.000000      1.000000      1.000000      3.000000   \n",
       "max        1.000000      1.000000      1.000000      1.000000      3.000000   \n",
       "\n",
       "                s17           s18           s48           s58           s70  \\\n",
       "count  28322.000000  28322.000000  28322.000000  28322.000000  28322.000000   \n",
       "mean       2.760540      1.167290      0.433338      0.909540      2.760540   \n",
       "std        0.606043      0.509622      0.495545      0.286844      0.606043   \n",
       "min        0.000000      0.000000      0.000000      0.000000      0.000000   \n",
       "25%        3.000000      1.000000      0.000000      1.000000      3.000000   \n",
       "50%        3.000000      1.000000      0.000000      1.000000      3.000000   \n",
       "75%        3.000000      1.000000      1.000000      1.000000      3.000000   \n",
       "max        3.000000      3.000000      1.000000      1.000000      3.000000   \n",
       "\n",
       "       ...            n7            n8            n9           n10  \\\n",
       "count  ...  28322.000000  28322.000000  28322.000000  28322.000000   \n",
       "mean   ...     -9.107429      1.612428      5.232644      6.115109   \n",
       "std    ...      0.205200      0.173560      2.179705      2.474138   \n",
       "min    ...     -9.517986      1.178469      2.508858      1.173465   \n",
       "25%    ...     -9.258473      1.489924      3.464229      4.414671   \n",
       "50%    ...     -9.174557      1.537263      4.461770      5.317154   \n",
       "75%    ...     -8.964786      1.730249      6.524341      7.027610   \n",
       "max    ...     -8.586583      2.173593     11.214870     12.029135   \n",
       "\n",
       "                n11           n12           n13           n14           n15  \\\n",
       "count  28322.000000  28322.000000  28322.000000  28322.000000  28322.000000   \n",
       "mean       1.699553      0.009992      0.089506      0.497570      2.997740   \n",
       "std        0.115150      0.099462      0.285478      0.289207      2.007611   \n",
       "min        1.500006      0.000000      0.000000      0.000101      0.000000   \n",
       "25%        1.600056      0.000000      0.000000      0.247801      1.000000   \n",
       "50%        1.698556      0.000000      0.000000      0.495255      3.000000   \n",
       "75%        1.799238      0.000000      0.000000      0.748786      5.000000   \n",
       "max        1.899995      1.000000      1.000000      0.999990      6.000000   \n",
       "\n",
       "              label  \n",
       "count  28322.000000  \n",
       "mean       0.168067  \n",
       "std        0.373933  \n",
       "min        0.000000  \n",
       "25%        0.000000  \n",
       "50%        0.000000  \n",
       "75%        0.000000  \n",
       "max        1.000000  \n",
       "\n",
       "[8 rows x 27 columns]"
      ]
     },
     "execution_count": 24,
     "metadata": {},
     "output_type": "execute_result"
    }
   ],
   "source": [
    "df2.describe()"
   ]
  },
  {
   "cell_type": "code",
   "execution_count": 25,
   "metadata": {
    "execution": {
     "iopub.execute_input": "2022-08-14T16:37:42.784859Z",
     "iopub.status.busy": "2022-08-14T16:37:42.784508Z",
     "iopub.status.idle": "2022-08-14T16:37:42.790802Z",
     "shell.execute_reply": "2022-08-14T16:37:42.790193Z",
     "shell.execute_reply.started": "2022-08-14T16:37:42.784808Z"
    }
   },
   "outputs": [
    {
     "data": {
      "text/plain": [
       "Index(['id', 'gender', 's11', 's12', 's13', 's16', 's17', 's18', 's48', 's52',\n",
       "       's58', 's69', 's70', 's71', 'n1', 'n2', 'n3', 'n4', 'n5', 'n6', 'n7',\n",
       "       'n8', 'n9', 'n10', 'n11', 'n12', 'n13', 'n14', 'n15', 'label'],\n",
       "      dtype='object')"
      ]
     },
     "execution_count": 25,
     "metadata": {},
     "output_type": "execute_result"
    }
   ],
   "source": [
    "df2.columns"
   ]
  },
  {
   "cell_type": "code",
   "execution_count": 26,
   "metadata": {
    "execution": {
     "iopub.execute_input": "2022-08-14T16:37:42.792385Z",
     "iopub.status.busy": "2022-08-14T16:37:42.792003Z",
     "iopub.status.idle": "2022-08-14T16:37:42.811056Z",
     "shell.execute_reply": "2022-08-14T16:37:42.810273Z",
     "shell.execute_reply.started": "2022-08-14T16:37:42.792352Z"
    }
   },
   "outputs": [
    {
     "data": {
      "text/plain": [
       "count     28322\n",
       "unique        4\n",
       "top           1\n",
       "freq      20524\n",
       "Name: s52, dtype: object"
      ]
     },
     "execution_count": 26,
     "metadata": {},
     "output_type": "execute_result"
    }
   ],
   "source": [
    "df2[\"s52\"].describe()"
   ]
  },
  {
   "cell_type": "code",
   "execution_count": 27,
   "metadata": {
    "execution": {
     "iopub.execute_input": "2022-08-14T16:37:42.815647Z",
     "iopub.status.busy": "2022-08-14T16:37:42.812374Z",
     "iopub.status.idle": "2022-08-14T16:37:42.826717Z",
     "shell.execute_reply": "2022-08-14T16:37:42.826011Z",
     "shell.execute_reply.started": "2022-08-14T16:37:42.815607Z"
    }
   },
   "outputs": [
    {
     "data": {
      "text/plain": [
       "s52\n",
       "1    20524\n",
       "l     6508\n",
       "0     1094\n",
       "o      196\n",
       "dtype: int64"
      ]
     },
     "execution_count": 27,
     "metadata": {},
     "output_type": "execute_result"
    }
   ],
   "source": [
    "df2.value_counts(\"s52\")"
   ]
  },
  {
   "cell_type": "code",
   "execution_count": 28,
   "metadata": {
    "execution": {
     "iopub.execute_input": "2022-08-14T16:37:42.832734Z",
     "iopub.status.busy": "2022-08-14T16:37:42.832267Z",
     "iopub.status.idle": "2022-08-14T16:37:42.840850Z",
     "shell.execute_reply": "2022-08-14T16:37:42.840180Z",
     "shell.execute_reply.started": "2022-08-14T16:37:42.832701Z"
    }
   },
   "outputs": [],
   "source": [
    "df2['s52'].replace({'l':1, 'o':0}, inplace = True)"
   ]
  },
  {
   "cell_type": "code",
   "execution_count": 29,
   "metadata": {
    "execution": {
     "iopub.execute_input": "2022-08-14T16:37:42.842710Z",
     "iopub.status.busy": "2022-08-14T16:37:42.842243Z",
     "iopub.status.idle": "2022-08-14T16:37:42.856566Z",
     "shell.execute_reply": "2022-08-14T16:37:42.855542Z",
     "shell.execute_reply.started": "2022-08-14T16:37:42.842676Z"
    }
   },
   "outputs": [
    {
     "data": {
      "text/plain": [
       "s52\n",
       "1    20524\n",
       "1     6508\n",
       "0     1094\n",
       "0      196\n",
       "dtype: int64"
      ]
     },
     "execution_count": 29,
     "metadata": {},
     "output_type": "execute_result"
    }
   ],
   "source": [
    "df2.value_counts(\"s52\")"
   ]
  },
  {
   "cell_type": "code",
   "execution_count": 30,
   "metadata": {
    "execution": {
     "iopub.execute_input": "2022-08-14T16:37:42.858115Z",
     "iopub.status.busy": "2022-08-14T16:37:42.857747Z",
     "iopub.status.idle": "2022-08-14T16:37:42.869514Z",
     "shell.execute_reply": "2022-08-14T16:37:42.868525Z",
     "shell.execute_reply.started": "2022-08-14T16:37:42.858082Z"
    }
   },
   "outputs": [
    {
     "data": {
      "text/plain": [
       "s69\n",
       "x     21028\n",
       "~1     6446\n",
       "C`      540\n",
       "0       308\n",
       "dtype: int64"
      ]
     },
     "execution_count": 30,
     "metadata": {},
     "output_type": "execute_result"
    }
   ],
   "source": [
    "df2.value_counts(\"s69\")"
   ]
  },
  {
   "cell_type": "code",
   "execution_count": 31,
   "metadata": {
    "execution": {
     "iopub.execute_input": "2022-08-14T16:37:42.871547Z",
     "iopub.status.busy": "2022-08-14T16:37:42.870913Z",
     "iopub.status.idle": "2022-08-14T16:37:42.891427Z",
     "shell.execute_reply": "2022-08-14T16:37:42.890422Z",
     "shell.execute_reply.started": "2022-08-14T16:37:42.871502Z"
    }
   },
   "outputs": [],
   "source": [
    "df2['s69'].replace({'x':0, '~1':1,'C`':2, '0':3}, inplace = True)"
   ]
  },
  {
   "cell_type": "code",
   "execution_count": 32,
   "metadata": {
    "execution": {
     "iopub.execute_input": "2022-08-14T16:37:42.893097Z",
     "iopub.status.busy": "2022-08-14T16:37:42.892630Z",
     "iopub.status.idle": "2022-08-14T16:37:42.902775Z",
     "shell.execute_reply": "2022-08-14T16:37:42.901685Z",
     "shell.execute_reply.started": "2022-08-14T16:37:42.893054Z"
    }
   },
   "outputs": [
    {
     "data": {
      "text/plain": [
       "s69\n",
       "0    21028\n",
       "1     6446\n",
       "2      540\n",
       "3      308\n",
       "dtype: int64"
      ]
     },
     "execution_count": 32,
     "metadata": {},
     "output_type": "execute_result"
    }
   ],
   "source": [
    "df2.value_counts(\"s69\")"
   ]
  },
  {
   "cell_type": "code",
   "execution_count": 33,
   "metadata": {
    "execution": {
     "iopub.execute_input": "2022-08-14T16:37:42.905112Z",
     "iopub.status.busy": "2022-08-14T16:37:42.904449Z",
     "iopub.status.idle": "2022-08-14T16:37:42.926616Z",
     "shell.execute_reply": "2022-08-14T16:37:42.925486Z",
     "shell.execute_reply.started": "2022-08-14T16:37:42.905066Z"
    }
   },
   "outputs": [
    {
     "name": "stdout",
     "output_type": "stream",
     "text": [
      "<class 'pandas.core.frame.DataFrame'>\n",
      "RangeIndex: 28322 entries, 0 to 28321\n",
      "Data columns (total 30 columns):\n",
      " #   Column  Non-Null Count  Dtype  \n",
      "---  ------  --------------  -----  \n",
      " 0   id      28322 non-null  object \n",
      " 1   gender  28322 non-null  int64  \n",
      " 2   s11     28322 non-null  int64  \n",
      " 3   s12     28322 non-null  int64  \n",
      " 4   s13     28322 non-null  int64  \n",
      " 5   s16     28322 non-null  int64  \n",
      " 6   s17     28322 non-null  int64  \n",
      " 7   s18     28322 non-null  int64  \n",
      " 8   s48     28322 non-null  int64  \n",
      " 9   s52     28322 non-null  object \n",
      " 10  s58     28322 non-null  int64  \n",
      " 11  s69     28322 non-null  int64  \n",
      " 12  s70     28322 non-null  int64  \n",
      " 13  s71     28322 non-null  int64  \n",
      " 14  n1      28322 non-null  float64\n",
      " 15  n2      28322 non-null  float64\n",
      " 16  n3      28322 non-null  int64  \n",
      " 17  n4      28322 non-null  float64\n",
      " 18  n5      28322 non-null  float64\n",
      " 19  n6      28322 non-null  float64\n",
      " 20  n7      28322 non-null  float64\n",
      " 21  n8      28322 non-null  float64\n",
      " 22  n9      28322 non-null  float64\n",
      " 23  n10     28322 non-null  float64\n",
      " 24  n11     28322 non-null  float64\n",
      " 25  n12     28322 non-null  int64  \n",
      " 26  n13     28322 non-null  int64  \n",
      " 27  n14     28322 non-null  float64\n",
      " 28  n15     28322 non-null  int64  \n",
      " 29  label   28322 non-null  int64  \n",
      "dtypes: float64(11), int64(17), object(2)\n",
      "memory usage: 6.5+ MB\n"
     ]
    }
   ],
   "source": [
    "df2.info()"
   ]
  },
  {
   "cell_type": "markdown",
   "metadata": {},
   "source": [
    "# Changing datatypes from object to int"
   ]
  },
  {
   "cell_type": "code",
   "execution_count": 34,
   "metadata": {
    "execution": {
     "iopub.execute_input": "2022-08-14T16:37:42.929428Z",
     "iopub.status.busy": "2022-08-14T16:37:42.928929Z",
     "iopub.status.idle": "2022-08-14T16:37:42.943524Z",
     "shell.execute_reply": "2022-08-14T16:37:42.942101Z",
     "shell.execute_reply.started": "2022-08-14T16:37:42.929379Z"
    }
   },
   "outputs": [],
   "source": [
    "df2['s52'] = df2['s52'].astype('int64')"
   ]
  },
  {
   "cell_type": "code",
   "execution_count": 35,
   "metadata": {
    "execution": {
     "iopub.execute_input": "2022-08-14T16:37:42.946312Z",
     "iopub.status.busy": "2022-08-14T16:37:42.944592Z",
     "iopub.status.idle": "2022-08-14T16:37:42.969304Z",
     "shell.execute_reply": "2022-08-14T16:37:42.967835Z",
     "shell.execute_reply.started": "2022-08-14T16:37:42.946258Z"
    }
   },
   "outputs": [
    {
     "name": "stdout",
     "output_type": "stream",
     "text": [
      "<class 'pandas.core.frame.DataFrame'>\n",
      "RangeIndex: 28322 entries, 0 to 28321\n",
      "Data columns (total 30 columns):\n",
      " #   Column  Non-Null Count  Dtype  \n",
      "---  ------  --------------  -----  \n",
      " 0   id      28322 non-null  object \n",
      " 1   gender  28322 non-null  int64  \n",
      " 2   s11     28322 non-null  int64  \n",
      " 3   s12     28322 non-null  int64  \n",
      " 4   s13     28322 non-null  int64  \n",
      " 5   s16     28322 non-null  int64  \n",
      " 6   s17     28322 non-null  int64  \n",
      " 7   s18     28322 non-null  int64  \n",
      " 8   s48     28322 non-null  int64  \n",
      " 9   s52     28322 non-null  int64  \n",
      " 10  s58     28322 non-null  int64  \n",
      " 11  s69     28322 non-null  int64  \n",
      " 12  s70     28322 non-null  int64  \n",
      " 13  s71     28322 non-null  int64  \n",
      " 14  n1      28322 non-null  float64\n",
      " 15  n2      28322 non-null  float64\n",
      " 16  n3      28322 non-null  int64  \n",
      " 17  n4      28322 non-null  float64\n",
      " 18  n5      28322 non-null  float64\n",
      " 19  n6      28322 non-null  float64\n",
      " 20  n7      28322 non-null  float64\n",
      " 21  n8      28322 non-null  float64\n",
      " 22  n9      28322 non-null  float64\n",
      " 23  n10     28322 non-null  float64\n",
      " 24  n11     28322 non-null  float64\n",
      " 25  n12     28322 non-null  int64  \n",
      " 26  n13     28322 non-null  int64  \n",
      " 27  n14     28322 non-null  float64\n",
      " 28  n15     28322 non-null  int64  \n",
      " 29  label   28322 non-null  int64  \n",
      "dtypes: float64(11), int64(18), object(1)\n",
      "memory usage: 6.5+ MB\n"
     ]
    }
   ],
   "source": [
    "df2.info()"
   ]
  },
  {
   "cell_type": "markdown",
   "metadata": {},
   "source": [
    "# Checking if the dataset is balanced or imbalanced"
   ]
  },
  {
   "cell_type": "code",
   "execution_count": 36,
   "metadata": {
    "execution": {
     "iopub.execute_input": "2022-08-14T16:37:42.972218Z",
     "iopub.status.busy": "2022-08-14T16:37:42.971024Z",
     "iopub.status.idle": "2022-08-14T16:37:42.985525Z",
     "shell.execute_reply": "2022-08-14T16:37:42.984508Z",
     "shell.execute_reply.started": "2022-08-14T16:37:42.972176Z"
    }
   },
   "outputs": [
    {
     "data": {
      "text/plain": [
       "label\n",
       "0    23562\n",
       "1     4760\n",
       "dtype: int64"
      ]
     },
     "execution_count": 36,
     "metadata": {},
     "output_type": "execute_result"
    }
   ],
   "source": [
    "df2.value_counts(\"label\")"
   ]
  },
  {
   "cell_type": "markdown",
   "metadata": {},
   "source": [
    "# Balancing Imbalanced Dataset"
   ]
  },
  {
   "cell_type": "code",
   "execution_count": 37,
   "metadata": {
    "execution": {
     "iopub.execute_input": "2022-08-14T16:37:42.987575Z",
     "iopub.status.busy": "2022-08-14T16:37:42.986768Z",
     "iopub.status.idle": "2022-08-14T16:37:43.156880Z",
     "shell.execute_reply": "2022-08-14T16:37:43.156145Z",
     "shell.execute_reply.started": "2022-08-14T16:37:42.987528Z"
    }
   },
   "outputs": [],
   "source": [
    "from sklearn.utils import resample\n",
    "#create two different dataframe of majority and minority class \n",
    "df_majority = df2[(df2['label']==0)] \n",
    "df_minority = df2[(df2['label']==1)] \n",
    "# upsample minority class\n",
    "df_minority_upsampled = resample(df_minority, \n",
    "                                 replace=True,    # sample with replacement\n",
    "                                 n_samples= 23562, # to match majority class\n",
    "                                 random_state=42)  # reproducible results\n",
    "# Combine majority class with upsampled minority class\n",
    "df_upsampled = pd.concat([df_minority_upsampled, df_majority])"
   ]
  },
  {
   "cell_type": "code",
   "execution_count": 38,
   "metadata": {
    "execution": {
     "iopub.execute_input": "2022-08-14T16:37:43.158474Z",
     "iopub.status.busy": "2022-08-14T16:37:43.158022Z",
     "iopub.status.idle": "2022-08-14T16:37:43.167699Z",
     "shell.execute_reply": "2022-08-14T16:37:43.166683Z",
     "shell.execute_reply.started": "2022-08-14T16:37:43.158441Z"
    }
   },
   "outputs": [
    {
     "data": {
      "text/plain": [
       "label\n",
       "0    23562\n",
       "1    23562\n",
       "dtype: int64"
      ]
     },
     "execution_count": 38,
     "metadata": {},
     "output_type": "execute_result"
    }
   ],
   "source": [
    "df_upsampled.value_counts(\"label\")"
   ]
  },
  {
   "cell_type": "markdown",
   "metadata": {},
   "source": [
    "# Converting dataset into features:X and Label:Y"
   ]
  },
  {
   "cell_type": "code",
   "execution_count": 39,
   "metadata": {
    "execution": {
     "iopub.execute_input": "2022-08-14T16:37:43.170127Z",
     "iopub.status.busy": "2022-08-14T16:37:43.169315Z",
     "iopub.status.idle": "2022-08-14T16:37:43.224206Z",
     "shell.execute_reply": "2022-08-14T16:37:43.223285Z",
     "shell.execute_reply.started": "2022-08-14T16:37:43.170078Z"
    }
   },
   "outputs": [
    {
     "name": "stdout",
     "output_type": "stream",
     "text": [
      "(47124, 28)\n"
     ]
    },
    {
     "data": {
      "text/plain": [
       "<bound method NDFrame.head of        gender  s11  s12  s13  s16  s17  s18  s48  s52  s58  ...        n6  \\\n",
       "5227        1    1    1    1    1    3    1    0    1    1  ...  0.024692   \n",
       "22246       1    1    1    1    1    3    1    1    1    1  ...  0.029716   \n",
       "18189       1    0    1    1    3    1    1    1    1    1  ...  0.015727   \n",
       "2946        1    1    1    1    3    3    1    0    1    1  ...  0.018292   \n",
       "26112       1    1    1    1    1    3    2    1    1    1  ...  0.023661   \n",
       "...       ...  ...  ...  ...  ...  ...  ...  ...  ...  ...  ...       ...   \n",
       "28317       1    1    1    1    3    3    1    0    1    1  ...  0.007216   \n",
       "28318       1    1    1    1    3    3    1    0    1    1  ...  0.013369   \n",
       "28319       0    1    1    1    3    3    1    0    1    1  ...  0.017782   \n",
       "28320       1    1    1    1    1    2    1    1    1    1  ...  0.007324   \n",
       "28321       1    1    1    1    3    3    1    1    1    1  ...  0.015928   \n",
       "\n",
       "             n7        n8         n9        n10       n11  n12  n13       n14  \\\n",
       "5227  -9.050680  1.741475   3.162309   4.117950  1.854804    0    0  0.070610   \n",
       "22246 -9.183248  1.561367   6.330363   3.359915  1.554018    0    0  0.010064   \n",
       "18189 -9.241768  1.489817   7.014880   5.516076  1.616590    0    0  0.340678   \n",
       "2946  -9.066242  1.649083   4.967928   4.032367  1.796996    0    0  0.129203   \n",
       "26112 -8.913605  1.798321   7.564077   5.273733  1.885648    0    0  0.188238   \n",
       "...         ...       ...        ...        ...       ...  ...  ...       ...   \n",
       "28317 -8.651173  1.877460   3.637551  11.404942  1.862441    0    0  0.019793   \n",
       "28318 -8.833046  1.559138   4.247487   5.530054  1.671527    0    0  0.371074   \n",
       "28319 -9.233722  1.455911   2.900249   6.058681  1.627479    0    1  0.826587   \n",
       "28320 -8.748941  2.074394  10.673259  11.387646  1.560391    0    0  0.103523   \n",
       "28321 -9.280950  1.490478   3.569598   4.584967  1.777995    0    1  0.435079   \n",
       "\n",
       "       n15  \n",
       "5227     4  \n",
       "22246    0  \n",
       "18189    0  \n",
       "2946     6  \n",
       "26112    4  \n",
       "...    ...  \n",
       "28317    5  \n",
       "28318    2  \n",
       "28319    1  \n",
       "28320    5  \n",
       "28321    5  \n",
       "\n",
       "[47124 rows x 28 columns]>"
      ]
     },
     "execution_count": 39,
     "metadata": {},
     "output_type": "execute_result"
    }
   ],
   "source": [
    "X = df_upsampled.drop(columns = ['id','label']) # X contains the features \n",
    "y= df_upsampled['label']\n",
    "print(X.shape)\n",
    "X.head\n",
    "# df.drop(columns =['C', 'D'])"
   ]
  },
  {
   "cell_type": "code",
   "execution_count": 40,
   "metadata": {
    "execution": {
     "iopub.execute_input": "2022-08-14T16:37:43.225734Z",
     "iopub.status.busy": "2022-08-14T16:37:43.225387Z",
     "iopub.status.idle": "2022-08-14T16:37:43.258000Z",
     "shell.execute_reply": "2022-08-14T16:37:43.257121Z",
     "shell.execute_reply.started": "2022-08-14T16:37:43.225701Z"
    }
   },
   "outputs": [
    {
     "data": {
      "text/plain": [
       "<bound method NDFrame.head of        gender  s11  s12  s13  s16  s17  s18  s48  s52  s58  ...        n6  \\\n",
       "5227        1    1    1    1    1    3    1    0    1    1  ...  0.024692   \n",
       "22246       1    1    1    1    1    3    1    1    1    1  ...  0.029716   \n",
       "18189       1    0    1    1    3    1    1    1    1    1  ...  0.015727   \n",
       "2946        1    1    1    1    3    3    1    0    1    1  ...  0.018292   \n",
       "26112       1    1    1    1    1    3    2    1    1    1  ...  0.023661   \n",
       "...       ...  ...  ...  ...  ...  ...  ...  ...  ...  ...  ...       ...   \n",
       "28317       1    1    1    1    3    3    1    0    1    1  ...  0.007216   \n",
       "28318       1    1    1    1    3    3    1    0    1    1  ...  0.013369   \n",
       "28319       0    1    1    1    3    3    1    0    1    1  ...  0.017782   \n",
       "28320       1    1    1    1    1    2    1    1    1    1  ...  0.007324   \n",
       "28321       1    1    1    1    3    3    1    1    1    1  ...  0.015928   \n",
       "\n",
       "             n7        n8         n9        n10       n11  n12  n13       n14  \\\n",
       "5227  -9.050680  1.741475   3.162309   4.117950  1.854804    0    0  0.070610   \n",
       "22246 -9.183248  1.561367   6.330363   3.359915  1.554018    0    0  0.010064   \n",
       "18189 -9.241768  1.489817   7.014880   5.516076  1.616590    0    0  0.340678   \n",
       "2946  -9.066242  1.649083   4.967928   4.032367  1.796996    0    0  0.129203   \n",
       "26112 -8.913605  1.798321   7.564077   5.273733  1.885648    0    0  0.188238   \n",
       "...         ...       ...        ...        ...       ...  ...  ...       ...   \n",
       "28317 -8.651173  1.877460   3.637551  11.404942  1.862441    0    0  0.019793   \n",
       "28318 -8.833046  1.559138   4.247487   5.530054  1.671527    0    0  0.371074   \n",
       "28319 -9.233722  1.455911   2.900249   6.058681  1.627479    0    1  0.826587   \n",
       "28320 -8.748941  2.074394  10.673259  11.387646  1.560391    0    0  0.103523   \n",
       "28321 -9.280950  1.490478   3.569598   4.584967  1.777995    0    1  0.435079   \n",
       "\n",
       "       n15  \n",
       "5227     4  \n",
       "22246    0  \n",
       "18189    0  \n",
       "2946     6  \n",
       "26112    4  \n",
       "...    ...  \n",
       "28317    5  \n",
       "28318    2  \n",
       "28319    1  \n",
       "28320    5  \n",
       "28321    5  \n",
       "\n",
       "[47124 rows x 28 columns]>"
      ]
     },
     "execution_count": 40,
     "metadata": {},
     "output_type": "execute_result"
    }
   ],
   "source": [
    "X.head"
   ]
  },
  {
   "cell_type": "code",
   "execution_count": 41,
   "metadata": {
    "execution": {
     "iopub.execute_input": "2022-08-14T16:37:43.259758Z",
     "iopub.status.busy": "2022-08-14T16:37:43.259062Z",
     "iopub.status.idle": "2022-08-14T16:37:43.265583Z",
     "shell.execute_reply": "2022-08-14T16:37:43.264837Z",
     "shell.execute_reply.started": "2022-08-14T16:37:43.259726Z"
    }
   },
   "outputs": [
    {
     "data": {
      "text/plain": [
       "Index(['gender', 's11', 's12', 's13', 's16', 's17', 's18', 's48', 's52', 's58',\n",
       "       's69', 's70', 's71', 'n1', 'n2', 'n3', 'n4', 'n5', 'n6', 'n7', 'n8',\n",
       "       'n9', 'n10', 'n11', 'n12', 'n13', 'n14', 'n15'],\n",
       "      dtype='object')"
      ]
     },
     "execution_count": 41,
     "metadata": {},
     "output_type": "execute_result"
    }
   ],
   "source": [
    "X.columns"
   ]
  },
  {
   "cell_type": "code",
   "execution_count": 42,
   "metadata": {
    "execution": {
     "iopub.execute_input": "2022-08-14T16:37:43.267444Z",
     "iopub.status.busy": "2022-08-14T16:37:43.266605Z",
     "iopub.status.idle": "2022-08-14T16:37:43.290183Z",
     "shell.execute_reply": "2022-08-14T16:37:43.289237Z",
     "shell.execute_reply.started": "2022-08-14T16:37:43.267394Z"
    }
   },
   "outputs": [
    {
     "name": "stdout",
     "output_type": "stream",
     "text": [
      "<class 'pandas.core.frame.DataFrame'>\n",
      "Int64Index: 47124 entries, 5227 to 28321\n",
      "Data columns (total 28 columns):\n",
      " #   Column  Non-Null Count  Dtype  \n",
      "---  ------  --------------  -----  \n",
      " 0   gender  47124 non-null  int64  \n",
      " 1   s11     47124 non-null  int64  \n",
      " 2   s12     47124 non-null  int64  \n",
      " 3   s13     47124 non-null  int64  \n",
      " 4   s16     47124 non-null  int64  \n",
      " 5   s17     47124 non-null  int64  \n",
      " 6   s18     47124 non-null  int64  \n",
      " 7   s48     47124 non-null  int64  \n",
      " 8   s52     47124 non-null  int64  \n",
      " 9   s58     47124 non-null  int64  \n",
      " 10  s69     47124 non-null  int64  \n",
      " 11  s70     47124 non-null  int64  \n",
      " 12  s71     47124 non-null  int64  \n",
      " 13  n1      47124 non-null  float64\n",
      " 14  n2      47124 non-null  float64\n",
      " 15  n3      47124 non-null  int64  \n",
      " 16  n4      47124 non-null  float64\n",
      " 17  n5      47124 non-null  float64\n",
      " 18  n6      47124 non-null  float64\n",
      " 19  n7      47124 non-null  float64\n",
      " 20  n8      47124 non-null  float64\n",
      " 21  n9      47124 non-null  float64\n",
      " 22  n10     47124 non-null  float64\n",
      " 23  n11     47124 non-null  float64\n",
      " 24  n12     47124 non-null  int64  \n",
      " 25  n13     47124 non-null  int64  \n",
      " 26  n14     47124 non-null  float64\n",
      " 27  n15     47124 non-null  int64  \n",
      "dtypes: float64(11), int64(17)\n",
      "memory usage: 10.4 MB\n"
     ]
    }
   ],
   "source": [
    "X.info()"
   ]
  },
  {
   "cell_type": "code",
   "execution_count": 43,
   "metadata": {
    "execution": {
     "iopub.execute_input": "2022-08-14T16:37:43.291630Z",
     "iopub.status.busy": "2022-08-14T16:37:43.291274Z",
     "iopub.status.idle": "2022-08-14T16:37:43.298794Z",
     "shell.execute_reply": "2022-08-14T16:37:43.297835Z",
     "shell.execute_reply.started": "2022-08-14T16:37:43.291597Z"
    }
   },
   "outputs": [
    {
     "data": {
      "text/plain": [
       "<bound method NDFrame.head of 5227     1\n",
       "22246    1\n",
       "18189    1\n",
       "2946     1\n",
       "26112    1\n",
       "        ..\n",
       "28317    0\n",
       "28318    0\n",
       "28319    0\n",
       "28320    0\n",
       "28321    0\n",
       "Name: label, Length: 47124, dtype: int64>"
      ]
     },
     "execution_count": 43,
     "metadata": {},
     "output_type": "execute_result"
    }
   ],
   "source": [
    "y.head"
   ]
  },
  {
   "cell_type": "code",
   "execution_count": 44,
   "metadata": {
    "execution": {
     "iopub.execute_input": "2022-08-14T16:37:43.300653Z",
     "iopub.status.busy": "2022-08-14T16:37:43.300212Z",
     "iopub.status.idle": "2022-08-14T16:37:43.310776Z",
     "shell.execute_reply": "2022-08-14T16:37:43.309775Z",
     "shell.execute_reply.started": "2022-08-14T16:37:43.300619Z"
    }
   },
   "outputs": [
    {
     "name": "stdout",
     "output_type": "stream",
     "text": [
      "(47124, 28)\n",
      "(47124,)\n"
     ]
    }
   ],
   "source": [
    "print(X.shape)\n",
    "print(y.shape)"
   ]
  },
  {
   "cell_type": "markdown",
   "metadata": {},
   "source": [
    "# Data Visualization"
   ]
  },
  {
   "cell_type": "code",
   "execution_count": 45,
   "metadata": {
    "execution": {
     "iopub.execute_input": "2022-08-14T16:37:43.312945Z",
     "iopub.status.busy": "2022-08-14T16:37:43.312003Z",
     "iopub.status.idle": "2022-08-14T16:37:46.285446Z",
     "shell.execute_reply": "2022-08-14T16:37:46.284455Z",
     "shell.execute_reply.started": "2022-08-14T16:37:43.312891Z"
    }
   },
   "outputs": [
    {
     "ename": "NameError",
     "evalue": "name 'plt' is not defined",
     "output_type": "error",
     "traceback": [
      "\u001b[1;31m---------------------------------------------------------------------------\u001b[0m",
      "\u001b[1;31mNameError\u001b[0m                                 Traceback (most recent call last)",
      "Input \u001b[1;32mIn [45]\u001b[0m, in \u001b[0;36m<cell line: 4>\u001b[1;34m()\u001b[0m\n\u001b[0;32m      4\u001b[0m \u001b[38;5;28;01mfor\u001b[39;00m f \u001b[38;5;129;01min\u001b[39;00m features:\n\u001b[0;32m      5\u001b[0m     sns\u001b[38;5;241m.\u001b[39mcountplot(x \u001b[38;5;241m=\u001b[39m f, data \u001b[38;5;241m=\u001b[39m df2, palette \u001b[38;5;241m=\u001b[39m \u001b[38;5;124m'\u001b[39m\u001b[38;5;124mSet3\u001b[39m\u001b[38;5;124m'\u001b[39m)\n\u001b[1;32m----> 6\u001b[0m     \u001b[43mplt\u001b[49m\u001b[38;5;241m.\u001b[39mshow()\n",
      "\u001b[1;31mNameError\u001b[0m: name 'plt' is not defined"
     ]
    },
    {
     "data": {
      "image/png": "[encoded data removed]",
      "text/plain": [
       "<Figure size 432x288 with 1 Axes>"
      ]
     },
     "metadata": {
      "needs_background": "light"
     },
     "output_type": "display_data"
    }
   ],
   "source": [
    "features = ['gender', 's11', 's12', 's13', 's16', 's17', 's18', 's48', 's52', 's58',\n",
    "       's69', 's70', 's71', 'n3', 'n12', 'n13', 'n15']\n",
    "\n",
    "for f in features:\n",
    "    sns.countplot(x = f, data = df2, palette = 'Set3')\n",
    "    plt.show()"
   ]
  },
  {
   "cell_type": "code",
   "execution_count": null,
   "metadata": {
    "execution": {
     "iopub.execute_input": "2022-08-14T16:37:46.287659Z",
     "iopub.status.busy": "2022-08-14T16:37:46.287053Z",
     "iopub.status.idle": "2022-08-14T16:37:46.663084Z",
     "shell.execute_reply": "2022-08-14T16:37:46.662171Z",
     "shell.execute_reply.started": "2022-08-14T16:37:46.287613Z"
    }
   },
   "outputs": [],
   "source": [
    "sns.countplot(x = 'label', data = df2, hue = 'gender');"
   ]
  },
  {
   "cell_type": "code",
   "execution_count": null,
   "metadata": {
    "execution": {
     "iopub.execute_input": "2022-08-14T16:37:46.664608Z",
     "iopub.status.busy": "2022-08-14T16:37:46.664265Z",
     "iopub.status.idle": "2022-08-14T16:37:47.039354Z",
     "shell.execute_reply": "2022-08-14T16:37:47.038316Z",
     "shell.execute_reply.started": "2022-08-14T16:37:46.664577Z"
    }
   },
   "outputs": [],
   "source": [
    "sns.kdeplot(x = \"gender\", data = df2);"
   ]
  },
  {
   "cell_type": "markdown",
   "metadata": {},
   "source": [
    "# Using Pearson's Correlation Coefficient to find Relationships between variables"
   ]
  },
  {
   "cell_type": "code",
   "execution_count": 46,
   "metadata": {
    "execution": {
     "iopub.execute_input": "2022-08-14T16:37:47.041045Z",
     "iopub.status.busy": "2022-08-14T16:37:47.040606Z",
     "iopub.status.idle": "2022-08-14T16:37:49.029603Z",
     "shell.execute_reply": "2022-08-14T16:37:49.028847Z",
     "shell.execute_reply.started": "2022-08-14T16:37:47.041002Z"
    }
   },
   "outputs": [
    {
     "ename": "NameError",
     "evalue": "name 'np' is not defined",
     "output_type": "error",
     "traceback": [
      "\u001b[1;31m---------------------------------------------------------------------------\u001b[0m",
      "\u001b[1;31mNameError\u001b[0m                                 Traceback (most recent call last)",
      "Input \u001b[1;32mIn [46]\u001b[0m, in \u001b[0;36m<cell line: 2>\u001b[1;34m()\u001b[0m\n\u001b[0;32m      1\u001b[0m corr \u001b[38;5;241m=\u001b[39m X\u001b[38;5;241m.\u001b[39mcorr()\n\u001b[1;32m----> 2\u001b[0m mask1 \u001b[38;5;241m=\u001b[39m \u001b[43mnp\u001b[49m\u001b[38;5;241m.\u001b[39mtriu(np\u001b[38;5;241m.\u001b[39mones_like(corr, dtype\u001b[38;5;241m=\u001b[39m\u001b[38;5;28mbool\u001b[39m))\n\u001b[0;32m      3\u001b[0m mask2 \u001b[38;5;241m=\u001b[39m np\u001b[38;5;241m.\u001b[39mtril(np\u001b[38;5;241m.\u001b[39mones_like(corr, dtype\u001b[38;5;241m=\u001b[39m\u001b[38;5;28mbool\u001b[39m))\n\u001b[0;32m      4\u001b[0m plt\u001b[38;5;241m.\u001b[39mfigure(figsize \u001b[38;5;241m=\u001b[39m (\u001b[38;5;241m12\u001b[39m,\u001b[38;5;241m10\u001b[39m))\n",
      "\u001b[1;31mNameError\u001b[0m: name 'np' is not defined"
     ]
    }
   ],
   "source": [
    "corr = X.corr()\n",
    "mask1 = np.triu(np.ones_like(corr, dtype=bool))\n",
    "mask2 = np.tril(np.ones_like(corr, dtype=bool))\n",
    "plt.figure(figsize = (12,10))\n",
    "sns.heatmap(corr, annot = True, cmap = \"seismic\", mask = mask1);"
   ]
  },
  {
   "cell_type": "code",
   "execution_count": null,
   "metadata": {
    "execution": {
     "iopub.execute_input": "2022-08-14T16:37:49.031228Z",
     "iopub.status.busy": "2022-08-14T16:37:49.030753Z",
     "iopub.status.idle": "2022-08-14T16:37:49.037033Z",
     "shell.execute_reply": "2022-08-14T16:37:49.036360Z",
     "shell.execute_reply.started": "2022-08-14T16:37:49.031195Z"
    }
   },
   "outputs": [],
   "source": [
    "# with the following function we can select highly correlated features\n",
    "# it will remove the first feature that is highly correlated with another feature\n",
    "\n",
    "def correlation(dataset, threshold):\n",
    "    col_corr = set() # Set of all the names of the redundant columns\n",
    "    corr_matrix = dataset.corr()\n",
    "    for i in range(len(corr_matrix.columns)):\n",
    "        for j in range(i):\n",
    "            if(abs(corr_matrix.iloc[i, j])) > threshold:\n",
    "                colname = corr_matrix.columns[i]\n",
    "                col_corr.add(colname)\n",
    "    return col_corr"
   ]
  },
  {
   "cell_type": "code",
   "execution_count": null,
   "metadata": {
    "execution": {
     "iopub.execute_input": "2022-08-14T16:37:49.038875Z",
     "iopub.status.busy": "2022-08-14T16:37:49.038009Z",
     "iopub.status.idle": "2022-08-14T16:37:49.170029Z",
     "shell.execute_reply": "2022-08-14T16:37:49.169028Z",
     "shell.execute_reply.started": "2022-08-14T16:37:49.038838Z"
    }
   },
   "outputs": [],
   "source": [
    "corr_features = correlation(X, 0.9)\n",
    "print(len(corr_features))\n",
    "print(corr_features)"
   ]
  },
  {
   "cell_type": "code",
   "execution_count": null,
   "metadata": {
    "execution": {
     "iopub.execute_input": "2022-08-14T16:37:49.172607Z",
     "iopub.status.busy": "2022-08-14T16:37:49.171867Z",
     "iopub.status.idle": "2022-08-14T16:37:49.181392Z",
     "shell.execute_reply": "2022-08-14T16:37:49.180371Z",
     "shell.execute_reply.started": "2022-08-14T16:37:49.172557Z"
    }
   },
   "outputs": [],
   "source": [
    "#Droping simillar features\n",
    "X = X.drop(columns = corr_features)\n",
    "\n",
    "print(X.shape)\n"
   ]
  },
  {
   "cell_type": "code",
   "execution_count": null,
   "metadata": {
    "execution": {
     "iopub.execute_input": "2022-08-14T16:37:49.183780Z",
     "iopub.status.busy": "2022-08-14T16:37:49.182701Z",
     "iopub.status.idle": "2022-08-14T16:37:49.194433Z",
     "shell.execute_reply": "2022-08-14T16:37:49.193585Z",
     "shell.execute_reply.started": "2022-08-14T16:37:49.183729Z"
    }
   },
   "outputs": [],
   "source": [
    "X.columns"
   ]
  },
  {
   "cell_type": "code",
   "execution_count": null,
   "metadata": {
    "execution": {
     "iopub.execute_input": "2022-08-14T16:37:49.196648Z",
     "iopub.status.busy": "2022-08-14T16:37:49.195671Z",
     "iopub.status.idle": "2022-08-14T16:37:52.048410Z",
     "shell.execute_reply": "2022-08-14T16:37:52.047511Z",
     "shell.execute_reply.started": "2022-08-14T16:37:49.196611Z"
    }
   },
   "outputs": [],
   "source": [
    "corr = X.corr() #feature selection pearsons coorelation\n",
    "corr\n",
    "\n",
    "plt.figure(figsize = (12,10))\n",
    "sns.heatmap(corr, annot = True, cmap = \"seismic\");"
   ]
  },
  {
   "cell_type": "code",
   "execution_count": null,
   "metadata": {
    "execution": {
     "iopub.execute_input": "2022-08-14T16:37:52.050137Z",
     "iopub.status.busy": "2022-08-14T16:37:52.049756Z",
     "iopub.status.idle": "2022-08-14T16:37:52.153948Z",
     "shell.execute_reply": "2022-08-14T16:37:52.152697Z",
     "shell.execute_reply.started": "2022-08-14T16:37:52.050105Z"
    }
   },
   "outputs": [],
   "source": [
    "corr_features= correlation(X,0.90)\n",
    "print(len(corr_features))\n",
    "print(corr_features)"
   ]
  },
  {
   "cell_type": "markdown",
   "metadata": {},
   "source": [
    "# Train Test Split"
   ]
  },
  {
   "cell_type": "code",
   "execution_count": null,
   "metadata": {
    "execution": {
     "iopub.execute_input": "2022-08-14T16:37:52.156299Z",
     "iopub.status.busy": "2022-08-14T16:37:52.155798Z",
     "iopub.status.idle": "2022-08-14T16:37:52.277903Z",
     "shell.execute_reply": "2022-08-14T16:37:52.276890Z",
     "shell.execute_reply.started": "2022-08-14T16:37:52.156250Z"
    }
   },
   "outputs": [],
   "source": [
    "from sklearn.model_selection import train_test_split\n",
    "X_train, X_test, y_train, y_test = train_test_split(X, y, test_size = 0.2, random_state =42)"
   ]
  },
  {
   "cell_type": "code",
   "execution_count": null,
   "metadata": {
    "execution": {
     "iopub.execute_input": "2022-08-14T16:37:52.283444Z",
     "iopub.status.busy": "2022-08-14T16:37:52.283079Z",
     "iopub.status.idle": "2022-08-14T16:37:52.294873Z",
     "shell.execute_reply": "2022-08-14T16:37:52.293733Z",
     "shell.execute_reply.started": "2022-08-14T16:37:52.283412Z"
    }
   },
   "outputs": [],
   "source": [
    "Y_pre = df_upsampled['label']\n",
    "target_names = list(set(Y_pre))\n",
    "target_names"
   ]
  },
  {
   "cell_type": "markdown",
   "metadata": {},
   "source": [
    "# Applying ML Models"
   ]
  },
  {
   "cell_type": "code",
   "execution_count": null,
   "metadata": {
    "execution": {
     "iopub.execute_input": "2022-08-14T16:37:52.297267Z",
     "iopub.status.busy": "2022-08-14T16:37:52.296399Z",
     "iopub.status.idle": "2022-08-14T16:37:52.307282Z",
     "shell.execute_reply": "2022-08-14T16:37:52.306024Z",
     "shell.execute_reply.started": "2022-08-14T16:37:52.297220Z"
    }
   },
   "outputs": [],
   "source": [
    "from sklearn.naive_bayes import MultinomialNB\n",
    "from sklearn.metrics import classification_report\n",
    "from sklearn.metrics import confusion_matrix, accuracy_score\n",
    "from sklearn import metrics"
   ]
  },
  {
   "cell_type": "markdown",
   "metadata": {},
   "source": [
    "**SVM**"
   ]
  },
  {
   "cell_type": "code",
   "execution_count": null,
   "metadata": {
    "execution": {
     "iopub.execute_input": "2022-08-14T16:37:52.310074Z",
     "iopub.status.busy": "2022-08-14T16:37:52.309215Z"
    }
   },
   "outputs": [],
   "source": [
    "from sklearn.svm import SVC\n",
    "SVMclassifer = SVC(kernel='linear',probability=True)\n",
    "SVMclassifer .fit(X_train, y_train)\n",
    "y_pred = SVMclassifer.predict(X_test)\n",
    "print('Test set accuracy %s' % accuracy_score(y_test, y_pred))\n",
    "\n"
   ]
  },
  {
   "cell_type": "code",
   "execution_count": null,
   "metadata": {},
   "outputs": [],
   "source": [
    "y_pred_proba = SVMclassifer.predict_proba(X_test)[::,1]\n",
    "auc = metrics.roc_auc_score(y_test, y_pred_proba)\n",
    "\n",
    "#print AUC score\n",
    "print(auc)"
   ]
  },
  {
   "cell_type": "markdown",
   "metadata": {},
   "source": [
    "**XGBoost**"
   ]
  },
  {
   "cell_type": "code",
   "execution_count": null,
   "metadata": {},
   "outputs": [],
   "source": [
    "from xgboost import XGBClassifier\n",
    "XGclassifer = XGBClassifier()\n",
    "XGclassifer.fit(X_train, y_train)\n",
    "y_pred = XGclassifer.predict(X_test)\n",
    "print('Test set accuracy %s' % accuracy_score(y_test, y_pred))\n"
   ]
  },
  {
   "cell_type": "code",
   "execution_count": null,
   "metadata": {},
   "outputs": [],
   "source": [
    "y_pred_proba = XGclassifer.predict_proba(X_test)[::,1]\n",
    "auc = metrics.roc_auc_score(y_test, y_pred_proba)\n",
    "\n",
    "#print AUC score\n",
    "print(auc)"
   ]
  },
  {
   "cell_type": "markdown",
   "metadata": {},
   "source": [
    "**Random Forest**"
   ]
  },
  {
   "cell_type": "code",
   "execution_count": null,
   "metadata": {},
   "outputs": [],
   "source": [
    "from sklearn.ensemble import RandomForestClassifier\n",
    "RFclassifer = RandomForestClassifier(n_estimators=100)\n",
    "RFclassifer.fit(X_train, y_train)\n",
    "y_pred = RFclassifer.predict(X_test)\n",
    "print('Test set accuracy %s' % accuracy_score(y_test, y_pred))"
   ]
  },
  {
   "cell_type": "code",
   "execution_count": null,
   "metadata": {},
   "outputs": [],
   "source": [
    "y_pred_proba = RFclassifer.predict_proba(X_test)[::,1]\n",
    "auc = metrics.roc_auc_score(y_test, y_pred_proba)\n",
    "\n",
    "#print AUC score\n",
    "print(auc)"
   ]
  },
  {
   "cell_type": "markdown",
   "metadata": {},
   "source": [
    "**Naive Bayes**"
   ]
  },
  {
   "cell_type": "code",
   "execution_count": null,
   "metadata": {},
   "outputs": [],
   "source": [
    "from sklearn.naive_bayes import GaussianNB\n",
    "NBclassifer = GaussianNB()\n",
    "NBclassifer.fit(X_train, y_train)\n",
    "y_pred = NBclassifer.predict(X_test)\n",
    "print('Test set accuracy %s' % accuracy_score(y_test, y_pred))"
   ]
  },
  {
   "cell_type": "code",
   "execution_count": null,
   "metadata": {},
   "outputs": [],
   "source": [
    "y_pred_proba = NBclassifer.predict_proba(X_test)[::,1]\n",
    "auc = metrics.roc_auc_score(y_test, y_pred_proba)\n",
    "\n",
    "#print AUC score\n",
    "print(auc)"
   ]
  },
  {
   "cell_type": "markdown",
   "metadata": {},
   "source": [
    "**AdaBoost**"
   ]
  },
  {
   "cell_type": "code",
   "execution_count": null,
   "metadata": {},
   "outputs": [],
   "source": [
    "from sklearn.ensemble import AdaBoostClassifier\n",
    "ABclassifer = AdaBoostClassifier(n_estimators=60,\n",
    "                         learning_rate=1)\n",
    "ABclassifer.fit(X_train, y_train)\n",
    "y_pred = ABclassifer.predict(X_test)\n",
    "print('Test set accuracy %s' % accuracy_score(y_test, y_pred))"
   ]
  },
  {
   "cell_type": "code",
   "execution_count": null,
   "metadata": {},
   "outputs": [],
   "source": [
    "y_pred_proba = ABclassifer.predict_proba(X_test)[::,1]\n",
    "auc = metrics.roc_auc_score(y_test, y_pred_proba)\n",
    "\n",
    "#print AUC score\n",
    "print(auc)"
   ]
  },
  {
   "cell_type": "markdown",
   "metadata": {},
   "source": [
    "**Logistics Regression**"
   ]
  },
  {
   "cell_type": "code",
   "execution_count": null,
   "metadata": {},
   "outputs": [],
   "source": [
    "from sklearn.linear_model import LogisticRegression\n",
    "LRclassifer = LogisticRegression()\n",
    "LRclassifer.fit(X_train, y_train)\n",
    "y_pred = LRclassifer.predict(X_test)\n",
    "print('Test set accuracy %s' % accuracy_score(y_test, y_pred))"
   ]
  },
  {
   "cell_type": "code",
   "execution_count": null,
   "metadata": {},
   "outputs": [],
   "source": [
    "y_pred_proba = LRclassifer.predict_proba(X_test)[::,1]\n",
    "auc = metrics.roc_auc_score(y_test, y_pred_proba)\n",
    "\n",
    "#print AUC score\n",
    "print(auc)"
   ]
  },
  {
   "cell_type": "markdown",
   "metadata": {},
   "source": [
    "# Using explainable to explain the output of the ML Models"
   ]
  },
  {
   "cell_type": "markdown",
   "metadata": {},
   "source": [
    "# SHAP"
   ]
  },
  {
   "cell_type": "code",
   "execution_count": null,
   "metadata": {},
   "outputs": [],
   "source": [
    "import shap"
   ]
  },
  {
   "cell_type": "code",
   "execution_count": null,
   "metadata": {},
   "outputs": [],
   "source": [
    "# Create Tree Explainer object that can calculate shap values\n",
    "explainer = shap.TreeExplainer(RFclassifer)"
   ]
  },
  {
   "cell_type": "code",
   "execution_count": null,
   "metadata": {},
   "outputs": [],
   "source": [
    "df2.loc[[421]]"
   ]
  },
  {
   "cell_type": "code",
   "execution_count": null,
   "metadata": {},
   "outputs": [],
   "source": [
    "# Calculate Shap values\n",
    "choosen_instance = X_test.loc[[421]]\n",
    "shap_values = explainer.shap_values(choosen_instance)\n",
    "shap.initjs()\n",
    "shap.force_plot(explainer.expected_value[1], shap_values[1], choosen_instance)"
   ]
  },
  {
   "cell_type": "code",
   "execution_count": null,
   "metadata": {},
   "outputs": [],
   "source": [
    "df2.loc[[55]]"
   ]
  },
  {
   "cell_type": "code",
   "execution_count": null,
   "metadata": {},
   "outputs": [],
   "source": [
    "# Calculate Shap values\n",
    "choosen_instance = X_test.loc[[55]]\n",
    "shap_values = explainer.shap_values(choosen_instance)\n",
    "shap.initjs()\n",
    "shap.force_plot(explainer.expected_value[1], shap_values[1], choosen_instance)"
   ]
  },
  {
   "cell_type": "code",
   "execution_count": null,
   "metadata": {},
   "outputs": [],
   "source": [
    "shap.summary_plot(shap_values, X_train)"
   ]
  },
  {
   "cell_type": "markdown",
   "metadata": {},
   "source": [
    "# LIME"
   ]
  },
  {
   "cell_type": "code",
   "execution_count": null,
   "metadata": {},
   "outputs": [],
   "source": [
    "import lime\n",
    "import lime.lime_tabular"
   ]
  },
  {
   "cell_type": "code",
   "execution_count": null,
   "metadata": {},
   "outputs": [],
   "source": [
    "#Creating Lime Object\n",
    "predict_fn_rf = lambda x: RFclassifer.predict_proba(x).astype(float)\n",
    "X = X_train.values\n",
    "explainer = lime.lime_tabular.LimeTabularExplainer(X,feature_names = X_train.columns,class_names=['0','1'],kernel_width=5)"
   ]
  },
  {
   "cell_type": "code",
   "execution_count": null,
   "metadata": {},
   "outputs": [],
   "source": [
    "df2.loc[[421]]"
   ]
  },
  {
   "cell_type": "code",
   "execution_count": null,
   "metadata": {},
   "outputs": [],
   "source": [
    "# Calculate Lime values\n",
    "choosen_instance = X_test.loc[[421]].values[0]\n",
    "exp = explainer.explain_instance(choosen_instance, predict_fn_rf,num_features=10)\n",
    "exp.show_in_notebook(show_all=False)"
   ]
  },
  {
   "cell_type": "code",
   "execution_count": null,
   "metadata": {},
   "outputs": [],
   "source": [
    "choosen_instance = X_test.loc[[55]].values[0]\n",
    "exp = explainer.explain_instance(choosen_instance, predict_fn_rf,num_features=10)\n",
    "exp.show_in_notebook(show_all=False)"
   ]
  }
 ],
 "metadata": {
  "kernelspec": {
   "display_name": "Python 3 (ipykernel)",
   "language": "python",
   "name": "python3"
  },
  "language_info": {
   "codemirror_mode": {
    "name": "ipython",
    "version": 3
   },
   "file_extension": ".py",
   "mimetype": "text/x-python",
   "name": "python",
   "nbconvert_exporter": "python",
   "pygments_lexer": "ipython3",
   "version": "3.9.12"
  }
 },
 "nbformat": 4,
 "nbformat_minor": 4
}
